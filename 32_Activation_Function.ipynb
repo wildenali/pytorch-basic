{
 "cells": [
  {
   "attachments": {},
   "cell_type": "markdown",
   "metadata": {},
   "source": [
    "# Activation Function\n",
    "\n",
    "Apa yang dimaksud dengan fungsi aktivasi?\n",
    "- Neural network terdiri dari neuron, weight, dan bias dan dapat terdiri dari berbagai lapisan (layer)\n",
    "- Neuron dalam neural network dapat dibedakan menjadi 3 jenis neuron berdasarkan letaknya dalam lapisan yaitu input, hidden, dan output\n",
    "- Activation function menentukan apakah sebuah neuron diaktifkan atau tidak\n",
    "- Penentuan ini didasarkan terhadap perhitungan dari weighted sum dan bias\n",
    "- Fungsi aktivasi membuat sebuah neuron menjadi tidak linear (tanpa fungsi aktivasi, neuron akan selalu jadi linear)\n",
    "- Ada berbagai macam fungsi aktivasi yang umum yang digunakan dalam neural network seperti, Rectified Linear Unit (ReLU), Sigmoid, dan Tanh\n",
    "\n",
    "<img src=\"./assets/actfunct.jpeg\\\" width=\"500\">"
   ]
  },
  {
   "attachments": {},
   "cell_type": "markdown",
   "metadata": {},
   "source": [
    "# Cara Implementasi Fungsi Aktivasi"
   ]
  },
  {
   "cell_type": "code",
   "execution_count": 1,
   "metadata": {},
   "outputs": [],
   "source": [
    "import torch\n",
    "import torch.nn as nn\n",
    "import torch.nn.functional as F"
   ]
  },
  {
   "attachments": {},
   "cell_type": "markdown",
   "metadata": {},
   "source": [
    "# Cara Pertama\n",
    "- Dalam contoh kita menggunakan fungsi aktivasi ReLU dan Sigmoid\n",
    "- Cara inimenggunakan nn.ReLU dan nn.Sigmoid untuk mendeklarasikan fungsi aktivasi\n",
    "- Fungsi aktivasi didefinisikan dalam contructor __init__\n",
    "- Fungsi aktivasi dijalankan pada bagian forward"
   ]
  },
  {
   "cell_type": "code",
   "execution_count": 2,
   "metadata": {},
   "outputs": [],
   "source": [
    "class NeuralNet(nn.Module):\n",
    "    # Constructor\n",
    "    def __init__(self, input_size, hidden_size, output_size=1):\n",
    "        super(NeuralNet, self).__init__()\n",
    "        self.fc1     = nn.Linear(input_size, hidden_size)\n",
    "        self.relu    = nn.ReLU()        # definisi fungsi aktivasi ReLU\n",
    "        self.fc2     = nn.Linear(hidden_size, hidden_size)\n",
    "        self.sigmoid = nn.Sigmoid()     # definisi fungsi aktivasi Sigmoid\n",
    "    \n",
    "    # Forward Pass\n",
    "    def forward(self, x):\n",
    "        out = self.fc1(x)\n",
    "        out = self.relu(out)    # dalam forward-pass fungsi relu untuk aktivasi neuron di layer `fc1`\n",
    "        out = self.fc2(out)\n",
    "        out = self.sigmoid(out) # fungsi sigmoid untuk aktivasi neuron di layer `fc2`\n",
    "        return out"
   ]
  },
  {
   "attachments": {},
   "cell_type": "markdown",
   "metadata": {},
   "source": [
    "# Cara Kedua\n",
    "- Pada cara ini, fungsi aktivasi diletakkan pada forward pass\n",
    "- Fungsi aktivasi menggunakan library yang bersumber dari torch dan bukan dari nn\n",
    "- Arsitektur neural network masih sama dengan yang didefinisikan pada cara pertama"
   ]
  },
  {
   "cell_type": "code",
   "execution_count": 3,
   "metadata": {},
   "outputs": [],
   "source": [
    "class NeuralNet(nn.Module):\n",
    "    # Constructor\n",
    "    def __init__(self, input_size, hidden_size, output_size=1):\n",
    "        super(NeuralNet, self).__init__()\n",
    "        self.fc1 = nn.Linear(input_size, hidden_size)\n",
    "        self.fc2 = nn.Linear(hidden_size, output_size)\n",
    "\n",
    "    # Forward pass\n",
    "    def forward(self, x):\n",
    "        out = torch.relu(self.fc1(x))\n",
    "        out = torch.sigmoid(self.fc2(out))\n",
    "        return out"
   ]
  },
  {
   "attachments": {},
   "cell_type": "markdown",
   "metadata": {},
   "source": [
    "# Cara Ketiga\n",
    "- Pada cara ini, fungsi aktivasi dipanggil menggunakan library yang bersumber dari torch.nn.functional\n",
    "- Arsitektur neural network masih sama dengan yang didefinisikan pada cara pertam"
   ]
  },
  {
   "cell_type": "code",
   "execution_count": 4,
   "metadata": {},
   "outputs": [],
   "source": [
    "class NeuralNet(nn.Module):\n",
    "    # Constructor\n",
    "    def __init__(self, input_size, hidden_size, output_size=1):\n",
    "        super(NeuralNet, self).__init__()\n",
    "        self.fc1 = nn.Linear(input_size, hidden_size)\n",
    "        self.fc2 = nn.Linear(hidden_size, output_size)\n",
    "\n",
    "    # Forward pass\n",
    "    def forward(self, x):\n",
    "        out = F.relu(self.fc1(x))\n",
    "        out = F.sigmoid(self.fc2(out))\n",
    "        return out"
   ]
  }
 ],
 "metadata": {
  "kernelspec": {
   "display_name": "pytorch-basic",
   "language": "python",
   "name": "python3"
  },
  "language_info": {
   "codemirror_mode": {
    "name": "ipython",
    "version": 3
   },
   "file_extension": ".py",
   "mimetype": "text/x-python",
   "name": "python",
   "nbconvert_exporter": "python",
   "pygments_lexer": "ipython3",
   "version": "3.8.16"
  },
  "orig_nbformat": 4
 },
 "nbformat": 4,
 "nbformat_minor": 2
}
