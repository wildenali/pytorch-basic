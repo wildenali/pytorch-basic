{
 "cells": [
  {
   "cell_type": "code",
   "execution_count": 1,
   "metadata": {},
   "outputs": [],
   "source": [
    "import torch"
   ]
  },
  {
   "attachments": {},
   "cell_type": "markdown",
   "metadata": {},
   "source": [
    "https://deeplearninguniversity.com/pytorch/pytorch-dataloader-class/"
   ]
  },
  {
   "cell_type": "code",
   "execution_count": 2,
   "metadata": {},
   "outputs": [],
   "source": [
    "from torch.utils.data import DataLoader"
   ]
  },
  {
   "cell_type": "code",
   "execution_count": 3,
   "metadata": {},
   "outputs": [],
   "source": [
    "# train_dataloader = DataLoader(train_dataset, batch_size=32, shuffle=True)\n",
    "# val_dataloader = DataLoader(val_dataset, batch_size=32, shuffle=False)\n",
    "# test_dataloader = DataLoader(test_dataset, batch_size=32, shuffle=False)"
   ]
  },
  {
   "attachments": {},
   "cell_type": "markdown",
   "metadata": {},
   "source": [
    "- https://github.com/mctosima/pengantarDLpytorch/blob/main/IPYNB%20Code/10_DatasetDataloader.ipynb"
   ]
  },
  {
   "attachments": {},
   "cell_type": "markdown",
   "metadata": {},
   "source": [
    "# Dataset dan Dataloader\n",
    "Pada percobaan ini kita tidak melakukan training apapun. Percobaan ini hanya untuk mengetahui bagaimana data yang diberikan dalam bentuk dataset dan dataloader.\n",
    "\n",
    "### Perlu diketahui\n",
    "- Satu epoch terdiri atas satu kali forward pass dan satu kali backward pass terhadap seluruh training samples\n",
    "- batch_size adalah banyaknya training sample dalam satu kali forward & backward pass\n",
    "- Jumlah iterasi adalah banyaknya pass dimana jumlah sampel setiap pass tergantung dari batch_size\n",
    "\n",
    "- Misalnya Terdapat 100 samples, dengan batch_size = 20. Artinya adalah 100 dibagi 20, sehingga terdapat 5 iterasi dalam satu epoch"
   ]
  },
  {
   "attachments": {},
   "cell_type": "markdown",
   "metadata": {},
   "source": [
    "### Mengimport library\n",
    "- torchvision berbeda dengan torch. torchvision adalah bagian dari PyTorch yang berisi popular datasets, model architecture, dan beberapa transformasi citra\n",
    "- torch.utils.data berisi fungsi untuk dataloader\n",
    "- torch.nn berisi fungsi untuk neural network"
   ]
  },
  {
   "cell_type": "code",
   "execution_count": 4,
   "metadata": {},
   "outputs": [],
   "source": [
    "import torch\n",
    "from torch.utils.data import Dataset, DataLoader\n",
    "import numpy as np"
   ]
  },
  {
   "attachments": {},
   "cell_type": "markdown",
   "metadata": {},
   "source": [
    "## Tentang Dataset Wine\n",
    "- Dataset ini berisi sampel data terkait kategori dari wine\n",
    "- Terdapat 13 buah feature, yaitu: Alcohol, Malic.acid, Ash, Acl, Mg, Phenols, Flavanoids, Nonflavanoid.phenols, Proanth, Color.int, Hue, OD, Proline\n",
    "- Terdapat 178 sampel terhadap tiga buah kelas"
   ]
  },
  {
   "cell_type": "code",
   "execution_count": 11,
   "metadata": {},
   "outputs": [],
   "source": [
    "class WineDataset(Dataset):\n",
    "    def __init__(self):\n",
    "        xy = np.loadtxt('./11_wine_dataset/wine.csv', delimiter=',', dtype=np.float32, skiprows=1)  # skil row 1 karena row 1 adalah header\n",
    "        self.x = xy[:, 1:]  # mengabaikan kolom indeks-0 karena kolom tersebut adalah kelasnya\n",
    "        self.y = xy[:, [0]]\n",
    "\n",
    "        # konversi menjadi tensor\n",
    "        self.x = torch.from_numpy(self.x)\n",
    "        self.y = torch.from_numpy(self.y)\n",
    "\n",
    "        # mengambil banyaknya sampel\n",
    "        self.n_samples = xy.shape[0]\n",
    "    \n",
    "    def __getitem__(self, index):\n",
    "        return self.x[index], self.y[index]\n",
    "    \n",
    "    def __len__(self):\n",
    "        return self.n_samples"
   ]
  },
  {
   "attachments": {},
   "cell_type": "markdown",
   "metadata": {},
   "source": [
    "Sedikit mengulang tentang konsep OOP di python:\n",
    "- `__init__` adalah fungsi yang pertama kali dijalankan ketika class di-instansiasi.\n",
    "- `__getitem__` adalah fungsi yang akan dijalankan ketika melakukan pengambilan data dari dataset.\n",
    "- `__len__` adalah fungsi yang akan dijalankan ketika melakukan pengambilan jumlah data dari dataset."
   ]
  },
  {
   "cell_type": "code",
   "execution_count": 13,
   "metadata": {},
   "outputs": [
    {
     "name": "stdout",
     "output_type": "stream",
     "text": [
      "<__main__.WineDataset object at 0x000002BB65211580>\n"
     ]
    }
   ],
   "source": [
    "'''ketika kode di bawah ini dijalankan, ```__init__``` akan dijalankan juga'''\n",
    "dataset = WineDataset()\n",
    "print(dataset)"
   ]
  },
  {
   "cell_type": "code",
   "execution_count": 14,
   "metadata": {},
   "outputs": [
    {
     "name": "stdout",
     "output_type": "stream",
     "text": [
      "(tensor([1.4230e+01, 1.7100e+00, 2.4300e+00, 1.5600e+01, 1.2700e+02, 2.8000e+00,\n",
      "        3.0600e+00, 2.8000e-01, 2.2900e+00, 5.6400e+00, 1.0400e+00, 3.9200e+00,\n",
      "        1.0650e+03]), tensor([1.]))\n"
     ]
    }
   ],
   "source": [
    "dataPertama = dataset[0]\n",
    "print(dataPertama)"
   ]
  },
  {
   "cell_type": "code",
   "execution_count": 15,
   "metadata": {},
   "outputs": [
    {
     "name": "stdout",
     "output_type": "stream",
     "text": [
      "tensor([1.4230e+01, 1.7100e+00, 2.4300e+00, 1.5600e+01, 1.2700e+02, 2.8000e+00,\n",
      "        3.0600e+00, 2.8000e-01, 2.2900e+00, 5.6400e+00, 1.0400e+00, 3.9200e+00,\n",
      "        1.0650e+03]) tensor([1.])\n"
     ]
    }
   ],
   "source": [
    "''' ketika kode di bawah ini dijalankan, ```__getitem___``` akan dijalankan, bahwa kembaliannya adalah tuple, yaitu x dan y'''\n",
    "features, labels = dataPertama\n",
    "\n",
    "''' mencoba untuk mencetak dataset indeks ke 0'''\n",
    "print(features,labels)"
   ]
  },
  {
   "attachments": {},
   "cell_type": "markdown",
   "metadata": {},
   "source": [
    "# Menggunakan DataLoader\n",
    "Penjelasan tentang DataLoader di bawah ini:\n",
    "\n",
    "- Argumen pertama adalah sumber dari dataset yaitu variabel dataset\n",
    "- Argumen kedua menjelaskan besarnya batch, yakni 4\n",
    "- Argumen ketiga (shuffle=True) bertujuan untuk mengacak urutan dataset\n",
    "- Argumen keempat (num_workers=2) bertujuan untuk mengatur jumlah thread yang digunakan untuk membaca data. Apabila komputer anda tidak mendukung multiple thread, hapus bagian ini"
   ]
  },
  {
   "cell_type": "code",
   "execution_count": 8,
   "metadata": {},
   "outputs": [
    {
     "name": "stdout",
     "output_type": "stream",
     "text": [
      "<torch.utils.data.dataloader.DataLoader object at 0x000002BB65221E50>\n"
     ]
    }
   ],
   "source": [
    "dataloader = DataLoader(dataset, batch_size=4, shuffle=True)\n",
    "print(dataloader)"
   ]
  },
  {
   "attachments": {},
   "cell_type": "markdown",
   "metadata": {},
   "source": [
    "# Training Loop"
   ]
  },
  {
   "cell_type": "code",
   "execution_count": 16,
   "metadata": {},
   "outputs": [
    {
     "name": "stdout",
     "output_type": "stream",
     "text": [
      "total_samples 178\n",
      "Jumlah Samples: 178, Jumlah Iterasi: 44\n"
     ]
    }
   ],
   "source": [
    "num_epochs = 2\n",
    "\n",
    "''' Pada bagian di bawah inilah bagian __len__  dijalankan pada class WineDataset '''\n",
    "total_samples = len(dataset)\n",
    "print(f\"total_samples {total_samples}\")\n",
    "\n",
    "''' Menggunakan 'double slash' // berarti melakukan pembulatan ke-bawah (flooring)'''\n",
    "n_iterations = total_samples // 4\n",
    "print(f'Jumlah Samples: {total_samples}, Jumlah Iterasi: {n_iterations}')"
   ]
  },
  {
   "cell_type": "code",
   "execution_count": 10,
   "metadata": {},
   "outputs": [
    {
     "name": "stdout",
     "output_type": "stream",
     "text": [
      "Epoch 1/2, Iteration 1/44, inputs torch.Size([4, 13]), labels torch.Size([4, 1])\n",
      "Epoch 1/2, Iteration 2/44, inputs torch.Size([4, 13]), labels torch.Size([4, 1])\n",
      "Epoch 1/2, Iteration 3/44, inputs torch.Size([4, 13]), labels torch.Size([4, 1])\n",
      "Epoch 1/2, Iteration 4/44, inputs torch.Size([4, 13]), labels torch.Size([4, 1])\n",
      "Epoch 1/2, Iteration 5/44, inputs torch.Size([4, 13]), labels torch.Size([4, 1])\n",
      "Epoch 1/2, Iteration 6/44, inputs torch.Size([4, 13]), labels torch.Size([4, 1])\n",
      "Epoch 1/2, Iteration 7/44, inputs torch.Size([4, 13]), labels torch.Size([4, 1])\n",
      "Epoch 1/2, Iteration 8/44, inputs torch.Size([4, 13]), labels torch.Size([4, 1])\n",
      "Epoch 1/2, Iteration 9/44, inputs torch.Size([4, 13]), labels torch.Size([4, 1])\n",
      "Epoch 1/2, Iteration 10/44, inputs torch.Size([4, 13]), labels torch.Size([4, 1])\n",
      "Epoch 1/2, Iteration 11/44, inputs torch.Size([4, 13]), labels torch.Size([4, 1])\n",
      "Epoch 1/2, Iteration 12/44, inputs torch.Size([4, 13]), labels torch.Size([4, 1])\n",
      "Epoch 1/2, Iteration 13/44, inputs torch.Size([4, 13]), labels torch.Size([4, 1])\n",
      "Epoch 1/2, Iteration 14/44, inputs torch.Size([4, 13]), labels torch.Size([4, 1])\n",
      "Epoch 1/2, Iteration 15/44, inputs torch.Size([4, 13]), labels torch.Size([4, 1])\n",
      "Epoch 1/2, Iteration 16/44, inputs torch.Size([4, 13]), labels torch.Size([4, 1])\n",
      "Epoch 1/2, Iteration 17/44, inputs torch.Size([4, 13]), labels torch.Size([4, 1])\n",
      "Epoch 1/2, Iteration 18/44, inputs torch.Size([4, 13]), labels torch.Size([4, 1])\n",
      "Epoch 1/2, Iteration 19/44, inputs torch.Size([4, 13]), labels torch.Size([4, 1])\n",
      "Epoch 1/2, Iteration 20/44, inputs torch.Size([4, 13]), labels torch.Size([4, 1])\n",
      "Epoch 1/2, Iteration 21/44, inputs torch.Size([4, 13]), labels torch.Size([4, 1])\n",
      "Epoch 1/2, Iteration 22/44, inputs torch.Size([4, 13]), labels torch.Size([4, 1])\n",
      "Epoch 1/2, Iteration 23/44, inputs torch.Size([4, 13]), labels torch.Size([4, 1])\n",
      "Epoch 1/2, Iteration 24/44, inputs torch.Size([4, 13]), labels torch.Size([4, 1])\n",
      "Epoch 1/2, Iteration 25/44, inputs torch.Size([4, 13]), labels torch.Size([4, 1])\n",
      "Epoch 1/2, Iteration 26/44, inputs torch.Size([4, 13]), labels torch.Size([4, 1])\n",
      "Epoch 1/2, Iteration 27/44, inputs torch.Size([4, 13]), labels torch.Size([4, 1])\n",
      "Epoch 1/2, Iteration 28/44, inputs torch.Size([4, 13]), labels torch.Size([4, 1])\n",
      "Epoch 1/2, Iteration 29/44, inputs torch.Size([4, 13]), labels torch.Size([4, 1])\n",
      "Epoch 1/2, Iteration 30/44, inputs torch.Size([4, 13]), labels torch.Size([4, 1])\n",
      "Epoch 1/2, Iteration 31/44, inputs torch.Size([4, 13]), labels torch.Size([4, 1])\n",
      "Epoch 1/2, Iteration 32/44, inputs torch.Size([4, 13]), labels torch.Size([4, 1])\n",
      "Epoch 1/2, Iteration 33/44, inputs torch.Size([4, 13]), labels torch.Size([4, 1])\n",
      "Epoch 1/2, Iteration 34/44, inputs torch.Size([4, 13]), labels torch.Size([4, 1])\n",
      "Epoch 1/2, Iteration 35/44, inputs torch.Size([4, 13]), labels torch.Size([4, 1])\n",
      "Epoch 1/2, Iteration 36/44, inputs torch.Size([4, 13]), labels torch.Size([4, 1])\n",
      "Epoch 1/2, Iteration 37/44, inputs torch.Size([4, 13]), labels torch.Size([4, 1])\n",
      "Epoch 1/2, Iteration 38/44, inputs torch.Size([4, 13]), labels torch.Size([4, 1])\n",
      "Epoch 1/2, Iteration 39/44, inputs torch.Size([4, 13]), labels torch.Size([4, 1])\n",
      "Epoch 1/2, Iteration 40/44, inputs torch.Size([4, 13]), labels torch.Size([4, 1])\n",
      "Epoch 1/2, Iteration 41/44, inputs torch.Size([4, 13]), labels torch.Size([4, 1])\n",
      "Epoch 1/2, Iteration 42/44, inputs torch.Size([4, 13]), labels torch.Size([4, 1])\n",
      "Epoch 1/2, Iteration 43/44, inputs torch.Size([4, 13]), labels torch.Size([4, 1])\n",
      "Epoch 1/2, Iteration 44/44, inputs torch.Size([4, 13]), labels torch.Size([4, 1])\n",
      "Epoch 1/2, Iteration 45/44, inputs torch.Size([2, 13]), labels torch.Size([2, 1])\n",
      "Epoch 2/2, Iteration 1/44, inputs torch.Size([4, 13]), labels torch.Size([4, 1])\n",
      "Epoch 2/2, Iteration 2/44, inputs torch.Size([4, 13]), labels torch.Size([4, 1])\n",
      "Epoch 2/2, Iteration 3/44, inputs torch.Size([4, 13]), labels torch.Size([4, 1])\n",
      "Epoch 2/2, Iteration 4/44, inputs torch.Size([4, 13]), labels torch.Size([4, 1])\n",
      "Epoch 2/2, Iteration 5/44, inputs torch.Size([4, 13]), labels torch.Size([4, 1])\n",
      "Epoch 2/2, Iteration 6/44, inputs torch.Size([4, 13]), labels torch.Size([4, 1])\n",
      "Epoch 2/2, Iteration 7/44, inputs torch.Size([4, 13]), labels torch.Size([4, 1])\n",
      "Epoch 2/2, Iteration 8/44, inputs torch.Size([4, 13]), labels torch.Size([4, 1])\n",
      "Epoch 2/2, Iteration 9/44, inputs torch.Size([4, 13]), labels torch.Size([4, 1])\n",
      "Epoch 2/2, Iteration 10/44, inputs torch.Size([4, 13]), labels torch.Size([4, 1])\n",
      "Epoch 2/2, Iteration 11/44, inputs torch.Size([4, 13]), labels torch.Size([4, 1])\n",
      "Epoch 2/2, Iteration 12/44, inputs torch.Size([4, 13]), labels torch.Size([4, 1])\n",
      "Epoch 2/2, Iteration 13/44, inputs torch.Size([4, 13]), labels torch.Size([4, 1])\n",
      "Epoch 2/2, Iteration 14/44, inputs torch.Size([4, 13]), labels torch.Size([4, 1])\n",
      "Epoch 2/2, Iteration 15/44, inputs torch.Size([4, 13]), labels torch.Size([4, 1])\n",
      "Epoch 2/2, Iteration 16/44, inputs torch.Size([4, 13]), labels torch.Size([4, 1])\n",
      "Epoch 2/2, Iteration 17/44, inputs torch.Size([4, 13]), labels torch.Size([4, 1])\n",
      "Epoch 2/2, Iteration 18/44, inputs torch.Size([4, 13]), labels torch.Size([4, 1])\n",
      "Epoch 2/2, Iteration 19/44, inputs torch.Size([4, 13]), labels torch.Size([4, 1])\n",
      "Epoch 2/2, Iteration 20/44, inputs torch.Size([4, 13]), labels torch.Size([4, 1])\n",
      "Epoch 2/2, Iteration 21/44, inputs torch.Size([4, 13]), labels torch.Size([4, 1])\n",
      "Epoch 2/2, Iteration 22/44, inputs torch.Size([4, 13]), labels torch.Size([4, 1])\n",
      "Epoch 2/2, Iteration 23/44, inputs torch.Size([4, 13]), labels torch.Size([4, 1])\n",
      "Epoch 2/2, Iteration 24/44, inputs torch.Size([4, 13]), labels torch.Size([4, 1])\n",
      "Epoch 2/2, Iteration 25/44, inputs torch.Size([4, 13]), labels torch.Size([4, 1])\n",
      "Epoch 2/2, Iteration 26/44, inputs torch.Size([4, 13]), labels torch.Size([4, 1])\n",
      "Epoch 2/2, Iteration 27/44, inputs torch.Size([4, 13]), labels torch.Size([4, 1])\n",
      "Epoch 2/2, Iteration 28/44, inputs torch.Size([4, 13]), labels torch.Size([4, 1])\n",
      "Epoch 2/2, Iteration 29/44, inputs torch.Size([4, 13]), labels torch.Size([4, 1])\n",
      "Epoch 2/2, Iteration 30/44, inputs torch.Size([4, 13]), labels torch.Size([4, 1])\n",
      "Epoch 2/2, Iteration 31/44, inputs torch.Size([4, 13]), labels torch.Size([4, 1])\n",
      "Epoch 2/2, Iteration 32/44, inputs torch.Size([4, 13]), labels torch.Size([4, 1])\n",
      "Epoch 2/2, Iteration 33/44, inputs torch.Size([4, 13]), labels torch.Size([4, 1])\n",
      "Epoch 2/2, Iteration 34/44, inputs torch.Size([4, 13]), labels torch.Size([4, 1])\n",
      "Epoch 2/2, Iteration 35/44, inputs torch.Size([4, 13]), labels torch.Size([4, 1])\n",
      "Epoch 2/2, Iteration 36/44, inputs torch.Size([4, 13]), labels torch.Size([4, 1])\n",
      "Epoch 2/2, Iteration 37/44, inputs torch.Size([4, 13]), labels torch.Size([4, 1])\n",
      "Epoch 2/2, Iteration 38/44, inputs torch.Size([4, 13]), labels torch.Size([4, 1])\n",
      "Epoch 2/2, Iteration 39/44, inputs torch.Size([4, 13]), labels torch.Size([4, 1])\n",
      "Epoch 2/2, Iteration 40/44, inputs torch.Size([4, 13]), labels torch.Size([4, 1])\n",
      "Epoch 2/2, Iteration 41/44, inputs torch.Size([4, 13]), labels torch.Size([4, 1])\n",
      "Epoch 2/2, Iteration 42/44, inputs torch.Size([4, 13]), labels torch.Size([4, 1])\n",
      "Epoch 2/2, Iteration 43/44, inputs torch.Size([4, 13]), labels torch.Size([4, 1])\n",
      "Epoch 2/2, Iteration 44/44, inputs torch.Size([4, 13]), labels torch.Size([4, 1])\n",
      "Epoch 2/2, Iteration 45/44, inputs torch.Size([2, 13]), labels torch.Size([2, 1])\n"
     ]
    }
   ],
   "source": [
    "for epoch in range(num_epochs):\n",
    "    for i, (inputs, labels) in enumerate(dataloader):\n",
    "        # forward pass\n",
    "        print(f'Epoch {epoch + 1}/{num_epochs}, Iteration {i + 1}/{n_iterations}, inputs {inputs.shape}, labels {labels.shape}')"
   ]
  }
 ],
 "metadata": {
  "kernelspec": {
   "display_name": "pytorch-basic",
   "language": "python",
   "name": "python3"
  },
  "language_info": {
   "codemirror_mode": {
    "name": "ipython",
    "version": 3
   },
   "file_extension": ".py",
   "mimetype": "text/x-python",
   "name": "python",
   "nbconvert_exporter": "python",
   "pygments_lexer": "ipython3",
   "version": "3.8.16"
  },
  "orig_nbformat": 4
 },
 "nbformat": 4,
 "nbformat_minor": 2
}
