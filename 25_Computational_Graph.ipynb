{
 "cells": [
  {
   "cell_type": "code",
   "execution_count": 1,
   "metadata": {},
   "outputs": [],
   "source": [
    "import torch"
   ]
  },
  {
   "attachments": {},
   "cell_type": "markdown",
   "metadata": {},
   "source": [
    "![comp_graph](assets/compgraph.jpeg)\n",
    "\n",
    "Kita akan mensimulasikan model yang sama seperti di atas, namun dengan menggunakan pytorch"
   ]
  },
  {
   "cell_type": "code",
   "execution_count": 2,
   "metadata": {},
   "outputs": [],
   "source": [
    "import torch"
   ]
  },
  {
   "cell_type": "code",
   "execution_count": 5,
   "metadata": {},
   "outputs": [
    {
     "name": "stdout",
     "output_type": "stream",
     "text": [
      "Nilai C = tensor([6.], grad_fn=<MulBackward0>)\n"
     ]
    }
   ],
   "source": [
    "a = torch.tensor([2.], requires_grad=True)\n",
    "b = torch.tensor([3.], requires_grad=True)\n",
    "d = torch.tensor([4.], requires_grad=True)\n",
    "c = a * b\n",
    "c.retain_grad()\n",
    "\n",
    "print(f\"Nilai C = {c}\")"
   ]
  },
  {
   "cell_type": "code",
   "execution_count": 7,
   "metadata": {},
   "outputs": [
    {
     "name": "stdout",
     "output_type": "stream",
     "text": [
      "Nilai E = tensor([24.], grad_fn=<MulBackward0>)\n"
     ]
    }
   ],
   "source": [
    "e = c * d\n",
    "print(f\"Nilai E = {e}\")"
   ]
  },
  {
   "cell_type": "code",
   "execution_count": 8,
   "metadata": {},
   "outputs": [
    {
     "name": "stdout",
     "output_type": "stream",
     "text": [
      "Nilai Gradient c = tensor([4.])\n",
      "Nilai Gradient d = tensor([6.])\n",
      "Nilai Gradient a = tensor([12.])\n",
      "Nilai Gradient b = tensor([8.])\n"
     ]
    }
   ],
   "source": [
    "e.backward()\n",
    "print(f'Nilai Gradient c = {c.grad}')\n",
    "print(f'Nilai Gradient d = {d.grad}')\n",
    "print(f'Nilai Gradient a = {a.grad}')\n",
    "print(f'Nilai Gradient b = {b.grad}')"
   ]
  },
  {
   "attachments": {},
   "cell_type": "markdown",
   "metadata": {},
   "source": [
    "# Pembahasan\n",
    "https://github.com/mctosima/pengantarDLpytorch/blob/main/IPYNB%20Code/03b_ComputationalGraph.ipynb"
   ]
  },
  {
   "attachments": {},
   "cell_type": "markdown",
   "metadata": {},
   "source": [
    "# Contoh\n",
    "![comp_graph](assets/compgraph2.jpeg)"
   ]
  },
  {
   "cell_type": "code",
   "execution_count": 9,
   "metadata": {},
   "outputs": [
    {
     "name": "stdout",
     "output_type": "stream",
     "text": [
      "Nilai x = tensor([5.], grad_fn=<AddBackward0>)\n",
      "Nilai y = tensor([20.], grad_fn=<MulBackward0>)\n",
      "Nilai z = tensor([100.], grad_fn=<MulBackward0>)\n",
      "Nilai Gradient a = tensor([20.])\n",
      "Nilai Gradient b = tensor([20.])\n",
      "Nilai Gradient c = tensor([25.])\n",
      "Nilai Gradient d = tensor([20.])\n"
     ]
    }
   ],
   "source": [
    "a = torch.tensor([2.], requires_grad=True)\n",
    "b = torch.tensor([3.], requires_grad=True)\n",
    "c = torch.tensor([4.], requires_grad=True)\n",
    "d = torch.tensor([5.], requires_grad=True)\n",
    "\n",
    "x = a + b\n",
    "y = c * d\n",
    "z = x * y\n",
    "x.retain_grad()\n",
    "y.retain_grad()\n",
    "z.retain_grad()\n",
    "\n",
    "print(f'Nilai x = {x}')\n",
    "print(f'Nilai y = {y}')\n",
    "print(f'Nilai z = {z}')\n",
    "\n",
    "z.backward()\n",
    "print(f'Nilai Gradient a = {a.grad}')\n",
    "print(f'Nilai Gradient b = {b.grad}')\n",
    "print(f'Nilai Gradient c = {c.grad}')\n",
    "print(f'Nilai Gradient d = {d.grad}')"
   ]
  }
 ],
 "metadata": {
  "kernelspec": {
   "display_name": "pytorch-basic",
   "language": "python",
   "name": "python3"
  },
  "language_info": {
   "codemirror_mode": {
    "name": "ipython",
    "version": 3
   },
   "file_extension": ".py",
   "mimetype": "text/x-python",
   "name": "python",
   "nbconvert_exporter": "python",
   "pygments_lexer": "ipython3",
   "version": "3.8.16"
  },
  "orig_nbformat": 4
 },
 "nbformat": 4,
 "nbformat_minor": 2
}
