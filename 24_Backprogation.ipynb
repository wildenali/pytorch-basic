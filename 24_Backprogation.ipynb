{
 "cells": [
  {
   "attachments": {},
   "cell_type": "markdown",
   "metadata": {},
   "source": [
    "# Backprogation\n",
    "Penjelasan\n",
    "Secara umum, terdapat tiga proses yang dibahas pada kode ini:\n",
    "\n",
    "- Forward pass: Menghitung loss\n",
    "- Menghitung local gradient\n",
    "- Backward pass: Menghitung dLoss / dWeight menggunakan chain rule"
   ]
  },
  {
   "attachments": {},
   "cell_type": "markdown",
   "metadata": {},
   "source": [
    "Pertama, kita lakukan inisiasi variabel\n",
    "Kita mendefinisikan 3 variabel:\n",
    "\n",
    "- $x$ merupakan skalar bernilai 1.0\n",
    "- $y$ merupakan skalar bernilai 2.0\n",
    "- $w$ merupakan skalar bernilai 1.0, kita akan mencari gradien berdasarkan variabel ini (requires_grad=True)"
   ]
  },
  {
   "cell_type": "code",
   "execution_count": 10,
   "metadata": {},
   "outputs": [],
   "source": [
    "import torch"
   ]
  },
  {
   "cell_type": "code",
   "execution_count": 11,
   "metadata": {},
   "outputs": [
    {
     "name": "stdout",
     "output_type": "stream",
     "text": [
      "tensor(1.)\n",
      "tensor(2.)\n",
      "tensor(1., requires_grad=True)\n"
     ]
    }
   ],
   "source": [
    "x = torch.tensor(1.0)\n",
    "y = torch.tensor(2.0)\n",
    "w = torch.tensor(1.0, requires_grad=True)\n",
    "print(x)\n",
    "print(y)\n",
    "print(w)"
   ]
  },
  {
   "attachments": {},
   "cell_type": "markdown",
   "metadata": {},
   "source": [
    "# Forward Pass\n",
    "Forward pass secara matematis (untuk kasus ini):\n",
    "- $\\hat{y} = w*x$\n",
    "- $\\text{loss} = (\\hat{y} - y)^2$, juga setara dengan $\\text{loss} = (w*x - y)^2$"
   ]
  },
  {
   "cell_type": "code",
   "execution_count": 12,
   "metadata": {},
   "outputs": [
    {
     "name": "stdout",
     "output_type": "stream",
     "text": [
      "tensor(1., grad_fn=<PowBackward0>)\n"
     ]
    }
   ],
   "source": [
    "y_hat = w * x\n",
    "loss = (y_hat - y) ** 2\n",
    "print(loss)"
   ]
  },
  {
   "attachments": {},
   "cell_type": "markdown",
   "metadata": {},
   "source": [
    "# Backward Pass"
   ]
  },
  {
   "attachments": {},
   "cell_type": "markdown",
   "metadata": {},
   "source": [
    "Persamaan Backward pass untuk fungsi $\\text{loss}$ menjadi:\n",
    "\n",
    "- $\\frac{\\partial \\text{loss}}{\\partial w} = 2 * x * (w * x - y)$\n",
    "\n",
    "Berdasarkan assignment variabel pada blok sebelumnya:\n",
    "\n",
    "- $x$ = `1.0`\n",
    "- $y$ = `2.0`\n",
    "- $w$ = `1.0`\n",
    "\n",
    "Subtitusi nilai ini kedalam persamaan backward pass: $2 * 1 * (1 * 1 - 2) = -2$\n",
    "Nilai `-2` ini merupakan gradien dari `w`. Sama dengan perhitungan yang dilakukan pada graf komputasi yang dipaparkan dalam gambar di awal notebook."
   ]
  },
  {
   "cell_type": "code",
   "execution_count": 13,
   "metadata": {},
   "outputs": [
    {
     "name": "stdout",
     "output_type": "stream",
     "text": [
      "tensor(-2.)\n"
     ]
    }
   ],
   "source": [
    "# backward pass fungsi yang didefinisikan pada variabel `loss`\n",
    "loss.backward()\n",
    "print(w.grad)"
   ]
  }
 ],
 "metadata": {
  "kernelspec": {
   "display_name": "pytorch-basic",
   "language": "python",
   "name": "python3"
  },
  "language_info": {
   "codemirror_mode": {
    "name": "ipython",
    "version": 3
   },
   "file_extension": ".py",
   "mimetype": "text/x-python",
   "name": "python",
   "nbconvert_exporter": "python",
   "pygments_lexer": "ipython3",
   "version": "3.8.16"
  },
  "orig_nbformat": 4
 },
 "nbformat": 4,
 "nbformat_minor": 2
}
