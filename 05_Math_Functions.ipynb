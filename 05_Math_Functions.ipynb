{
 "cells": [
  {
   "cell_type": "code",
   "execution_count": 2,
   "metadata": {},
   "outputs": [],
   "source": [
    "import torch"
   ]
  },
  {
   "attachments": {},
   "cell_type": "markdown",
   "metadata": {},
   "source": [
    "# Absolute"
   ]
  },
  {
   "cell_type": "code",
   "execution_count": 3,
   "metadata": {},
   "outputs": [
    {
     "name": "stdout",
     "output_type": "stream",
     "text": [
      "tensor([[1, 4],\n",
      "        [2, 1]])\n",
      "tensor([[1, 4],\n",
      "        [2, 1]])\n",
      "tensor([[1, 4],\n",
      "        [2, 1]])\n"
     ]
    }
   ],
   "source": [
    "x = torch.tensor([[-1, 4], [-2, 1]])\n",
    "\n",
    "# Does not make changes to tensor x, stores the result in y\n",
    "y = torch.abs(x)\n",
    "\n",
    "print(y)\n",
    "# Outputs- tensor([[1, 4], [2, 1]])\n",
    "\n",
    "# abs() function is called directly on the tensor\n",
    "print(x.abs())\n",
    "# Outputs- tensor([[1, 4], [2, 1]])\n",
    "\n",
    "# Changes the original tensor\n",
    "x.abs_()\n",
    "print(x)\n",
    "# Outputs- tensor([[1, 4], [2, 1]])"
   ]
  },
  {
   "attachments": {},
   "cell_type": "markdown",
   "metadata": {},
   "source": [
    "# Round"
   ]
  },
  {
   "cell_type": "code",
   "execution_count": 4,
   "metadata": {},
   "outputs": [
    {
     "name": "stdout",
     "output_type": "stream",
     "text": [
      "tensor([[-1.,  5.],\n",
      "        [-3.,  1.]])\n",
      "tensor([[-1.,  5.],\n",
      "        [-3.,  1.]])\n",
      "tensor([[-1.,  5.],\n",
      "        [-3.,  1.]])\n"
     ]
    }
   ],
   "source": [
    "x = torch.tensor([[-1.1, 4.7], [-2.9, 1.24]])\n",
    "\n",
    "# Does not make changes to tensor x, stores the result in y\n",
    "y = torch.round(x)\n",
    "print(y)\n",
    "# Outputs- tensor([[-1., 5.], [-3., 1.]])\n",
    "\n",
    "# round() function is called directly on the tensor\n",
    "print(x.round())\n",
    "# Outputs- tensor([[-1., 5.], [-3., 1.]])\n",
    "\n",
    "# Changes the original tensor\n",
    "x.round_()\n",
    "print(x)\n",
    "# Outputs- tensor([[-1., 5.], [-3., 1.]])"
   ]
  },
  {
   "attachments": {},
   "cell_type": "markdown",
   "metadata": {},
   "source": [
    "# Ceil"
   ]
  },
  {
   "cell_type": "code",
   "execution_count": 5,
   "metadata": {},
   "outputs": [
    {
     "name": "stdout",
     "output_type": "stream",
     "text": [
      "tensor([[-1.,  5.],\n",
      "        [-2.,  2.]])\n",
      "tensor([[-1.,  5.],\n",
      "        [-2.,  2.]])\n",
      "tensor([[-1.,  5.],\n",
      "        [-2.,  2.]])\n"
     ]
    }
   ],
   "source": [
    "x = torch.tensor([[-1.1, 4.7], [-2.9, 1.24]])\n",
    "\n",
    "# Does not make changes to tensor x, stores the result in y\n",
    "y = torch.ceil(x)\n",
    "print(y)\n",
    "# Outputs- tensor([[-1., 5.], [-2., 2.]])\n",
    "\n",
    "# ceil() function is called directly on the tensor\n",
    "print(x.ceil())\n",
    "# Outputs- tensor([[-1., 5.], [-2., 2.]])\n",
    "\n",
    "# Changes the original tensor\n",
    "x.ceil_()\n",
    "print(x)\n",
    "# Outputs- tensor([[-1., 5.], [-2., 2.]])"
   ]
  },
  {
   "attachments": {},
   "cell_type": "markdown",
   "metadata": {},
   "source": [
    "# Floor"
   ]
  },
  {
   "cell_type": "code",
   "execution_count": 6,
   "metadata": {},
   "outputs": [
    {
     "name": "stdout",
     "output_type": "stream",
     "text": [
      "tensor([[-2.,  4.],\n",
      "        [-3.,  1.]])\n",
      "tensor([[-2.,  4.],\n",
      "        [-3.,  1.]])\n",
      "tensor([[-2.,  4.],\n",
      "        [-3.,  1.]])\n"
     ]
    }
   ],
   "source": [
    "x = torch.tensor([[-1.1, 4.7], [-2.9, 1.24]])\n",
    "\n",
    "# Does not make changes to tensor x, stores the result in y\n",
    "y = torch.floor(x)\n",
    "print(y)\n",
    "# Outputs- tensor([[-2., 4.], [-3., 1.]])\n",
    "\n",
    "# floor() function is called directly on the tensor\n",
    "print(x.floor())\n",
    "# Outputs- tensor([[-2., 4.], [-3., 1.]])\n",
    "\n",
    "# Changes the original tensor\n",
    "x.floor_()\n",
    "print(x)\n",
    "# Outputs- tensor([[-2., 4.], [-3., 1.]])"
   ]
  },
  {
   "attachments": {},
   "cell_type": "markdown",
   "metadata": {},
   "source": [
    "# Sin"
   ]
  },
  {
   "cell_type": "code",
   "execution_count": 7,
   "metadata": {},
   "outputs": [
    {
     "name": "stdout",
     "output_type": "stream",
     "text": [
      "tensor([0.8415, 0.9093, 0.1411])\n",
      "tensor([0.8415, 0.9093, 0.1411])\n",
      "tensor([0.8415, 0.9093, 0.1411])\n"
     ]
    }
   ],
   "source": [
    "x = torch.tensor([1.0, 2.0, 3.0])\n",
    "\n",
    "# Does not make changes to tensor x, stores the result in y\n",
    "y = torch.sin(x)            \n",
    "print(y)\n",
    "# Outputs- tensor([0.8415, 0.9093, 0.1411])\n",
    "\n",
    "# sin() function is called directly on the tensor\n",
    "print(x.sin())\n",
    "# Outputs- tensor([0.8415, 0.9093, 0.1411])\n",
    "\n",
    "# Changes the original tensor\n",
    "x.sin_()\n",
    "print(x)\n",
    "# Outputs- tensor([0.8415, 0.9093, 0.1411])"
   ]
  },
  {
   "attachments": {},
   "cell_type": "markdown",
   "metadata": {},
   "source": [
    "# Cos"
   ]
  },
  {
   "cell_type": "code",
   "execution_count": 8,
   "metadata": {},
   "outputs": [
    {
     "name": "stdout",
     "output_type": "stream",
     "text": [
      "tensor([ 0.5403, -0.4161, -0.9900])\n",
      "tensor([ 0.5403, -0.4161, -0.9900])\n",
      "tensor([ 0.5403, -0.4161, -0.9900])\n"
     ]
    }
   ],
   "source": [
    "x = torch.tensor([1.0, 2.0, 3.0])\n",
    "\n",
    "# Does not make changes to tensor x, stores the result in y\n",
    "y = torch.cos(x)\n",
    "print(y)\n",
    "# Outputs- tensor([0.5403, -0.4161, -0.9900])\n",
    "\n",
    "# cos() function is called directly on the tensor\n",
    "print(x.cos())\n",
    "# Outputs- tensor([0.5403, -0.4161, -0.9900])\n",
    "\n",
    "# Changes the original tensor\n",
    "x.cos_()\n",
    "print(x)\n",
    "# Outputs- tensor([0.5403, -0.4161, -0.9900])"
   ]
  },
  {
   "attachments": {},
   "cell_type": "markdown",
   "metadata": {},
   "source": [
    "# Square Root"
   ]
  },
  {
   "cell_type": "code",
   "execution_count": 9,
   "metadata": {},
   "outputs": [
    {
     "name": "stdout",
     "output_type": "stream",
     "text": [
      "tensor([1.4142, 1.7321, 2.0000, 2.2361])\n",
      "tensor([1.4142, 1.7321, 2.0000, 2.2361])\n",
      "tensor([1.4142, 1.7321, 2.0000, 2.2361])\n"
     ]
    }
   ],
   "source": [
    "x = torch.tensor([2., 3., 4., 5.])\n",
    "\n",
    "# Does not make changes to tensor x, stores the result in y\n",
    "y = torch.sqrt(x)\n",
    "print(y)\n",
    "# Outputs- tensor([1.4142, 1.7321, 2.0000, 2.2361])\n",
    "\n",
    "# sqrt() function is called directly on the tensor\n",
    "print(x.sqrt())\n",
    "# Outputs- tensor([1.4142, 1.7321, 2.0000, 2.2361])\n",
    "\n",
    "# Changes the original tensor\n",
    "x.sqrt_()\n",
    "print(x)\n",
    "# Outputs- tensor([1.4142, 1.7321, 2.0000, 2.2361])"
   ]
  },
  {
   "attachments": {},
   "cell_type": "markdown",
   "metadata": {},
   "source": [
    "# Natural Logarithm (to the base e)"
   ]
  },
  {
   "cell_type": "code",
   "execution_count": 10,
   "metadata": {},
   "outputs": [
    {
     "name": "stdout",
     "output_type": "stream",
     "text": [
      "tensor([0.3365, 0.6931, 1.3863])\n",
      "tensor([0.3365, 0.6931, 1.3863])\n",
      "tensor([0.3365, 0.6931, 1.3863])\n"
     ]
    }
   ],
   "source": [
    "x = torch.tensor([1.4, 2, 4.0])\n",
    "\n",
    "# Does not make changes to tensor x, stores the result in y\n",
    "y = torch.log(x)\n",
    "print(y)\n",
    "# Outputs- tensor([0.3365, 0.6931, 1.3863])\n",
    "\n",
    "# log() function is called directly on the tensor\n",
    "print(x.log())\n",
    "# Outputs- tensor([0.5403, -0.4161, -0.9900])\n",
    "\n",
    "# Changes the original tensor\n",
    "x.log_()\n",
    "print(x)\n",
    "# Outputs- tensor([0.5403, -0.4161, -0.9900])"
   ]
  }
 ],
 "metadata": {
  "kernelspec": {
   "display_name": "pytorch-basic",
   "language": "python",
   "name": "python3"
  },
  "language_info": {
   "codemirror_mode": {
    "name": "ipython",
    "version": 3
   },
   "file_extension": ".py",
   "mimetype": "text/x-python",
   "name": "python",
   "nbconvert_exporter": "python",
   "pygments_lexer": "ipython3",
   "version": "3.8.16"
  },
  "orig_nbformat": 4
 },
 "nbformat": 4,
 "nbformat_minor": 2
}
