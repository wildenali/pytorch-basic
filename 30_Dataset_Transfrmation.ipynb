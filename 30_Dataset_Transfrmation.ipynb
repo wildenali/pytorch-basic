{
 "cells": [
  {
   "attachments": {},
   "cell_type": "markdown",
   "metadata": {},
   "source": [
    "# Dataset Tranformation"
   ]
  },
  {
   "cell_type": "code",
   "execution_count": 1,
   "metadata": {},
   "outputs": [],
   "source": [
    "import torch\n",
    "from torch.utils.data import Dataset, DataLoader\n",
    "import numpy as np"
   ]
  },
  {
   "attachments": {},
   "cell_type": "markdown",
   "metadata": {},
   "source": [
    "Pada bagian ini kita melakukan sedikit modifikasi:\n",
    "\n",
    "- Pada bagian def `__init__`, kita menambahkan self.transform = transform, juga tidak lupa pada bagian argumen transform\n",
    "- Pada bagian def `__getitem__`, kita menambahkan self.transform"
   ]
  },
  {
   "cell_type": "code",
   "execution_count": 2,
   "metadata": {},
   "outputs": [],
   "source": [
    "class WineDataset(Dataset):\n",
    "    def __init__(self, transform=None):\n",
    "        xy = np.loadtxt('./11_wine_dataset/wine.csv', delimiter=',', dtype=np.float32,\n",
    "                        skiprows=1)  # skip row 1 karena row 1 adalah header\n",
    "        \n",
    "        self.n_samples = len(xy)\n",
    "        \n",
    "        self.x = xy[:, 1:]  # mengabaikan kolom indeks-0 karena kolom tersebut adalah kelasnya\n",
    "        self.y = xy[:, [0]]\n",
    "        \n",
    "        self.transform = transform\n",
    "\n",
    "    def __getitem__(self, index):\n",
    "        sample = self.x[index], self.y[index]\n",
    "        \n",
    "        if self.transform:\n",
    "            sample = self.transform(sample)\n",
    "        \n",
    "        return sample\n",
    "\n",
    "    def __len__(self):\n",
    "        return self.n_samples"
   ]
  },
  {
   "attachments": {},
   "cell_type": "markdown",
   "metadata": {},
   "source": [
    "# Membuat class ToTensor()\n",
    "- Kelas ini berfungsi untuk mengkonversikan nilai masukan dan target ke dalam bentuk tensor.\n",
    "- `__call__` adalah method bawaan dari python yang memungkinkan pengguna membuat kelas yang instancenya dapat dipanggil sebagai fungsi."
   ]
  },
  {
   "cell_type": "code",
   "execution_count": 3,
   "metadata": {},
   "outputs": [],
   "source": [
    "class ToTensor():\n",
    "    def __call__(self, sample):\n",
    "        x, y = sample\n",
    "        return torch.from_numpy(x), torch.from_numpy(y)\n",
    "\n",
    "dataset = WineDataset(transform=None)"
   ]
  },
  {
   "attachments": {},
   "cell_type": "markdown",
   "metadata": {},
   "source": [
    "Mencoba mengambil sampel data awal. Dan pada bagian ini, tidak ada transformasi yang dilakukan"
   ]
  },
  {
   "cell_type": "code",
   "execution_count": 4,
   "metadata": {},
   "outputs": [
    {
     "name": "stdout",
     "output_type": "stream",
     "text": [
      "[1.423e+01 1.710e+00 2.430e+00 1.560e+01 1.270e+02 2.800e+00 3.060e+00\n",
      " 2.800e-01 2.290e+00 5.640e+00 1.040e+00 3.920e+00 1.065e+03] [1.]\n",
      "(13,) (1,)\n",
      "<class 'numpy.ndarray'> <class 'numpy.ndarray'>\n"
     ]
    }
   ],
   "source": [
    "first_data = dataset[0]\n",
    "contoh_x, contoh_y = first_data\n",
    "print(contoh_x, contoh_y)\n",
    "print(contoh_x.shape, contoh_y.shape)\n",
    "print(type(contoh_x), type(contoh_y))"
   ]
  },
  {
   "attachments": {},
   "cell_type": "markdown",
   "metadata": {},
   "source": [
    "# Membuat class MulTransform()\n",
    "- Kelas ini berfungsi untuk mengalikan input dengan faktor pengali\n",
    "- Nilai kembalian dari fungsi ini adalah input (x) yang telah dikali dan target (y) yang tetap."
   ]
  },
  {
   "cell_type": "code",
   "execution_count": 5,
   "metadata": {},
   "outputs": [],
   "source": [
    "class MulTransform:\n",
    "    def __init__(self, factor):\n",
    "        self.factor = factor\n",
    "        \n",
    "    def __call__(self, sample):\n",
    "        x, y = sample\n",
    "        x = x * self.factor\n",
    "        return x, y"
   ]
  },
  {
   "attachments": {},
   "cell_type": "markdown",
   "metadata": {},
   "source": [
    "# Membuat Beberapa Transformasi Menjadi Satu\n",
    "- Dapat diimplementasikan dengan torchvision.transforms.Compose\n",
    "- Tujuannya adalah, kita menggabungkan transformasi yang kita buat pada kelas ToTensor dan MulTransform menjadi sebuah fungsi transformasi"
   ]
  },
  {
   "cell_type": "code",
   "execution_count": 6,
   "metadata": {},
   "outputs": [
    {
     "name": "stdout",
     "output_type": "stream",
     "text": [
      "tensor([2.8460e+01, 3.4200e+00, 4.8600e+00, 3.1200e+01, 2.5400e+02, 5.6000e+00,\n",
      "        6.1200e+00, 5.6000e-01, 4.5800e+00, 1.1280e+01, 2.0800e+00, 7.8400e+00,\n",
      "        2.1300e+03]) tensor([1.])\n",
      "torch.Size([13]) torch.Size([1])\n",
      "<class 'torch.Tensor'> <class 'torch.Tensor'>\n"
     ]
    }
   ],
   "source": [
    "import torchvision\n",
    "\n",
    "composed = torchvision.transforms.Compose([ToTensor(), MulTransform(2)])\n",
    "dataset  = WineDataset(transform=composed)\n",
    "\n",
    "first_data = dataset[0]\n",
    "contoh_x, contoh_y = first_data\n",
    "print(contoh_x, contoh_y)\n",
    "print(contoh_x.shape, contoh_y.shape)\n",
    "print(type(contoh_x), type(contoh_y))"
   ]
  },
  {
   "attachments": {},
   "cell_type": "markdown",
   "metadata": {},
   "source": [
    "Dapat kita amati beberapa hal:\n",
    "\n",
    "- Setelah menggunakan fungsi transformasi composed, kita akan mendapatkan input dan target yang telah dikonversikan ke dalam bentuk tensor.\n",
    "- Nilai dari contoh_x dan contoh_y setelah ditransformasi juga berbeda dengan sebelum di transformasikan.\n",
    "- torchvision.transforms.Compose memungkinkan kita untuk menggabungkan beberapa fungsi transformasi."
   ]
  }
 ],
 "metadata": {
  "kernelspec": {
   "display_name": "pytorch-basic",
   "language": "python",
   "name": "python3"
  },
  "language_info": {
   "codemirror_mode": {
    "name": "ipython",
    "version": 3
   },
   "file_extension": ".py",
   "mimetype": "text/x-python",
   "name": "python",
   "nbconvert_exporter": "python",
   "pygments_lexer": "ipython3",
   "version": "3.8.16"
  },
  "orig_nbformat": 4
 },
 "nbformat": 4,
 "nbformat_minor": 2
}
