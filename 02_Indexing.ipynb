{
 "cells": [
  {
   "cell_type": "code",
   "execution_count": 1,
   "metadata": {},
   "outputs": [],
   "source": [
    "import torch"
   ]
  },
  {
   "attachments": {},
   "cell_type": "markdown",
   "metadata": {},
   "source": [
    "# Accessing Tensor Elements"
   ]
  },
  {
   "cell_type": "code",
   "execution_count": 2,
   "metadata": {},
   "outputs": [
    {
     "name": "stdout",
     "output_type": "stream",
     "text": [
      "tensor(2)\n",
      "tensor(7)\n"
     ]
    }
   ],
   "source": [
    "tensor = torch.tensor([2, 4, 1, 7, 0, 9])\n",
    "\n",
    "print(tensor[0])\n",
    "# Outputs- tensor(2)\n",
    "\n",
    "print(tensor[3])\n",
    "# Outputs- tensor(7)"
   ]
  },
  {
   "cell_type": "code",
   "execution_count": 3,
   "metadata": {},
   "outputs": [
    {
     "name": "stdout",
     "output_type": "stream",
     "text": [
      "tensor([4, 1, 7, 0])\n"
     ]
    }
   ],
   "source": [
    "tensor = torch.tensor([2, 4, 1, 7, 0, 9])\n",
    "\n",
    "print(tensor[1 : 5])\n",
    "# Outputs- tensor([4, 1, 7, 0])"
   ]
  },
  {
   "cell_type": "code",
   "execution_count": 4,
   "metadata": {},
   "outputs": [
    {
     "name": "stdout",
     "output_type": "stream",
     "text": [
      "tensor([1, 7, 0, 9])\n"
     ]
    }
   ],
   "source": [
    "tensor = torch.tensor([2, 4, 1, 7, 0, 9])\n",
    "\n",
    "print(tensor[2 : ])\n",
    "# Outputs- tensor([1, 7, 0, 9])"
   ]
  },
  {
   "cell_type": "code",
   "execution_count": 5,
   "metadata": {},
   "outputs": [
    {
     "name": "stdout",
     "output_type": "stream",
     "text": [
      "tensor([2, 4, 1, 7])\n"
     ]
    }
   ],
   "source": [
    "tensor = torch.tensor([2, 4, 1, 7, 0, 9])\n",
    "\n",
    "print(tensor[ : 4])\n",
    "# Outputs- tensor([2, 4, 1, 7])"
   ]
  },
  {
   "cell_type": "code",
   "execution_count": 6,
   "metadata": {},
   "outputs": [
    {
     "name": "stdout",
     "output_type": "stream",
     "text": [
      "tensor([2, 4, 1, 7, 0, 9])\n"
     ]
    }
   ],
   "source": [
    "tensor = torch.tensor([2, 4, 1, 7, 0, 9])\n",
    "\n",
    "print(tensor[ : ])\n",
    "# Outputs- tensor([2, 4, 1, 7, 0, 9])"
   ]
  },
  {
   "cell_type": "code",
   "execution_count": 7,
   "metadata": {},
   "outputs": [
    {
     "name": "stdout",
     "output_type": "stream",
     "text": [
      "tensor([3, 8, 4])\n"
     ]
    }
   ],
   "source": [
    "tensor = torch.tensor([[1, 2, 1], [3, 8, 4]])\n",
    "\n",
    "print(tensor[1])\n",
    "# Outputs- tensor([3, 8, 4])"
   ]
  },
  {
   "cell_type": "code",
   "execution_count": 8,
   "metadata": {},
   "outputs": [
    {
     "name": "stdout",
     "output_type": "stream",
     "text": [
      "tensor(1)\n"
     ]
    }
   ],
   "source": [
    "tensor = torch.tensor([[1, 2, 1], [3, 8, 4]])\n",
    "\n",
    "print(tensor[0][2])\n",
    "# Outputs- tensor(1)"
   ]
  },
  {
   "attachments": {},
   "cell_type": "markdown",
   "metadata": {},
   "source": [
    "# Changing Tensor Elements"
   ]
  },
  {
   "cell_type": "code",
   "execution_count": 9,
   "metadata": {},
   "outputs": [
    {
     "name": "stdout",
     "output_type": "stream",
     "text": [
      "tensor([8, 4, 1, 7, 0, 9])\n"
     ]
    }
   ],
   "source": [
    "tensor = torch.tensor([2, 4, 1, 7, 0, 9])\n",
    "\n",
    "# assign value 8 to the 0th index in the tensor\n",
    "tensor[0] = 8\n",
    "\n",
    "print(tensor)\n",
    "# Outputs- tensor([8, 4, 1, 7, 0, 9])"
   ]
  },
  {
   "cell_type": "code",
   "execution_count": 10,
   "metadata": {},
   "outputs": [
    {
     "name": "stdout",
     "output_type": "stream",
     "text": [
      "tensor([[7, 2, 1],\n",
      "        [3, 8, 4]])\n"
     ]
    }
   ],
   "source": [
    "tensor = torch.tensor([[1, 2, 1], [3, 8, 4]])\n",
    "\n",
    "# assign value 7 at the given index\n",
    "tensor[0][0] = 7\n",
    "\n",
    "print(tensor)\n",
    "# Outputs- tensor([[7, 2, 1], [3, 8, 4]])"
   ]
  }
 ],
 "metadata": {
  "kernelspec": {
   "display_name": "pytorch-basic",
   "language": "python",
   "name": "python3"
  },
  "language_info": {
   "codemirror_mode": {
    "name": "ipython",
    "version": 3
   },
   "file_extension": ".py",
   "mimetype": "text/x-python",
   "name": "python",
   "nbconvert_exporter": "python",
   "pygments_lexer": "ipython3",
   "version": "3.8.16"
  },
  "orig_nbformat": 4
 },
 "nbformat": 4,
 "nbformat_minor": 2
}
