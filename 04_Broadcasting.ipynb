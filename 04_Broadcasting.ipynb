{
 "cells": [
  {
   "cell_type": "code",
   "execution_count": 1,
   "metadata": {},
   "outputs": [],
   "source": [
    "import torch"
   ]
  },
  {
   "attachments": {},
   "cell_type": "markdown",
   "metadata": {},
   "source": [
    "Broadcasting functionality in Pytorch has been borrowed from Numpy. Broadcasting allows the performing of arithmetic operations on tensors that are not of the same size. Pytorch automatically does the broadcasting of the ‘smaller’ tensor to the size of the ‘larger’ tensor, only if certain constraints are met\n",
    "- https://deeplearninguniversity.com/pytorch/pytorch-broadcasting/"
   ]
  },
  {
   "cell_type": "code",
   "execution_count": 2,
   "metadata": {},
   "outputs": [
    {
     "ename": "RuntimeError",
     "evalue": "The size of tensor a (4) must match the size of tensor b (3) at non-singleton dimension 0",
     "output_type": "error",
     "traceback": [
      "\u001b[1;31m---------------------------------------------------------------------------\u001b[0m",
      "\u001b[1;31mRuntimeError\u001b[0m                              Traceback (most recent call last)",
      "Cell \u001b[1;32mIn[2], line 1\u001b[0m\n\u001b[1;32m----> 1\u001b[0m tensor \u001b[39m=\u001b[39m torch\u001b[39m.\u001b[39;49mtensor([\u001b[39m1\u001b[39;49m, \u001b[39m2\u001b[39;49m, \u001b[39m3\u001b[39;49m, \u001b[39m4\u001b[39;49m]) \u001b[39m+\u001b[39;49m torch\u001b[39m.\u001b[39;49mtensor([\u001b[39m1\u001b[39;49m, \u001b[39m2\u001b[39;49m, \u001b[39m3\u001b[39;49m])\n\u001b[0;32m      2\u001b[0m \u001b[39m# Outputs- RuntimeError: The size of tensor a (3) must match the size of tensor b (2) at non-singleton dimension 0\u001b[39;00m\n",
      "\u001b[1;31mRuntimeError\u001b[0m: The size of tensor a (4) must match the size of tensor b (3) at non-singleton dimension 0"
     ]
    }
   ],
   "source": [
    "tensor = torch.tensor([1, 2, 3, 4]) + torch.tensor([1, 2, 3])\n",
    "# Outputs- RuntimeError: The size of tensor a (3) must match the size of tensor b (2) at non-singleton dimension 0"
   ]
  },
  {
   "cell_type": "code",
   "execution_count": 3,
   "metadata": {},
   "outputs": [
    {
     "name": "stdout",
     "output_type": "stream",
     "text": [
      "tensor([2, 3, 4])\n"
     ]
    }
   ],
   "source": [
    "tensor = torch.tensor([1, 2, 3])+torch.tensor([1])\n",
    "\n",
    "print(tensor)\n",
    "# Outputs- tensor([2, 3, 4])"
   ]
  },
  {
   "attachments": {},
   "cell_type": "markdown",
   "metadata": {},
   "source": [
    "# Rules for Broadcasting\n",
    "Two tensors are compatible for broadcasting only if, when starting from the trailing dimensions of the tensors:\n",
    "\n",
    "- If the dimensions of both the tensors are the same.\n",
    "- If the dimension of one of the tensors is 1."
   ]
  },
  {
   "cell_type": "code",
   "execution_count": 4,
   "metadata": {},
   "outputs": [
    {
     "name": "stdout",
     "output_type": "stream",
     "text": [
      "torch.Size([2, 2])\n",
      "torch.Size([1, 2])\n",
      "torch.Size([2, 1])\n",
      "torch.Size([1])\n",
      "tensor([[4, 3],\n",
      "        [3, 4]])\n",
      "tensor([[6, 7],\n",
      "        [2, 5]])\n",
      "tensor([[8, 6],\n",
      "        [5, 3]])\n",
      "tensor([[ 8,  9],\n",
      "        [ 7, 10]])\n"
     ]
    }
   ],
   "source": [
    "tensor1 = torch.tensor([[1, 2], [0, 3]])\n",
    "tensor2 = torch.tensor([[3, 1]])\n",
    "tensor3 = torch.tensor([[5], [2]])\n",
    "tensor4 = torch.tensor([7])\n",
    "\n",
    "print(tensor1.shape)\n",
    "# Outputs- torch.Size([2, 2])\n",
    "print(tensor2.shape)\n",
    "# Outputs- torch.Size([1, 2])\n",
    "print(tensor3.shape)\n",
    "# Outputs- torch.Size([2, 1])\n",
    "print(tensor4.shape)\n",
    "# Outputs- torch.Size([1])\n",
    "\n",
    "print(tensor1 + tensor2)\n",
    "# Outputs- tensor([[4, 3], [3, 4]])\n",
    "print(tensor1 + tensor3)\n",
    "# Outputs- tensor([[6, 7], [2, 5]])\n",
    "print(tensor2 + tensor3)\n",
    "# Outputs- tensor([[8, 6], [5, 3]])\n",
    "print(tensor1 + tensor4)\n",
    "# Outputs- tensor([[ 8, 9], [ 7, 10]])"
   ]
  },
  {
   "cell_type": "code",
   "execution_count": null,
   "metadata": {},
   "outputs": [],
   "source": []
  }
 ],
 "metadata": {
  "kernelspec": {
   "display_name": "pytorch-basic",
   "language": "python",
   "name": "python3"
  },
  "language_info": {
   "codemirror_mode": {
    "name": "ipython",
    "version": 3
   },
   "file_extension": ".py",
   "mimetype": "text/x-python",
   "name": "python",
   "nbconvert_exporter": "python",
   "pygments_lexer": "ipython3",
   "version": "3.8.16"
  },
  "orig_nbformat": 4
 },
 "nbformat": 4,
 "nbformat_minor": 2
}
