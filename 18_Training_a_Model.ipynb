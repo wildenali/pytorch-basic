{
 "cells": [
  {
   "attachments": {},
   "cell_type": "markdown",
   "metadata": {},
   "source": [
    "- https://deeplearninguniversity.com/pytorch/training-a-model-in-pytorch/"
   ]
  },
  {
   "attachments": {},
   "cell_type": "markdown",
   "metadata": {},
   "source": [
    "# A Pytorch Training Loop"
   ]
  },
  {
   "cell_type": "code",
   "execution_count": null,
   "metadata": {},
   "outputs": [],
   "source": [
    "# for epoch in range(epochs):\n",
    "#     for batch in train_dataloader:\n",
    "#         optimizer.zero_grad()\n",
    "#         input, label= batch\n",
    "#         output=mynet(input)\n",
    "#         loss=loss_function(output, label)\n",
    "#         loss.backward()\n",
    "#         optimizer.step()"
   ]
  },
  {
   "attachments": {},
   "cell_type": "markdown",
   "metadata": {},
   "source": [
    "# Adding Validation in Training Loop"
   ]
  },
  {
   "cell_type": "code",
   "execution_count": null,
   "metadata": {},
   "outputs": [],
   "source": [
    "# for epoch in range(epochs):\n",
    "\n",
    "#     # Performing Training for each epoch\n",
    "#     training_loss = 0.\n",
    "#     model.train()\n",
    "\n",
    "#     # The training loop\n",
    "#     for batch in train_dataloader:\n",
    "#         optimizer.zero_grad()\n",
    "#         input, label = batch\n",
    "#         output = mynet(input)\n",
    "#         loss = loss_function(output, input)\n",
    "#         loss.backward()\n",
    "#         optimizer.step()\n",
    "#         training_loss += loss.item()\n",
    "\n",
    "\n",
    "#     # Performing Validation for each epoch\n",
    "#     validation_loss = 0.\n",
    "#     model.eval()\n",
    "\n",
    "#     # The validation loop\n",
    "#     for batch in validation_dataloader:\n",
    "#         input, label = batch\n",
    "#         output = mynet(input)\n",
    "#         loss = loss_function(output, label)\n",
    "#         validation_loss += loss.item()\n",
    "\n",
    "#     # Calculating the average training and validation loss over epoch\n",
    "#     training_loss_avg = training_loss/len(train_dataloader)\n",
    "#     validation_loss_avg = validation_loss/len(validation_dataloader)\n",
    "\n",
    "#     # Printing average training and average validation losses\n",
    "#     print(\"Epoch: {}\".format(epoch))\n",
    "#     print(\"Training loss: {}\".format(training_loss_avg))\n",
    "#     print(\"Validation loss: {}\".format(validation_loss_avg))"
   ]
  },
  {
   "attachments": {},
   "cell_type": "markdown",
   "metadata": {},
   "source": [
    "# Making Predictions"
   ]
  },
  {
   "cell_type": "code",
   "execution_count": null,
   "metadata": {},
   "outputs": [],
   "source": [
    "# # Make Predictions\n",
    "# prediction_proba = mynet(input)\n",
    "\n",
    "# # Convert from probabilities to sparse labels\n",
    "# prediction = prediction_proba.argmax()\n",
    "\n",
    "# # Print predictions\n",
    "# print(prediction)"
   ]
  },
  {
   "cell_type": "code",
   "execution_count": null,
   "metadata": {},
   "outputs": [],
   "source": [
    "# # Set the number of correct predictions to 0\n",
    "# num_correct_pred = 0\n",
    "\n",
    "# # Test loop\n",
    "# for batch in test_dataloader:\n",
    "#     input, label = batch\n",
    "#     output = mynet(input)\n",
    "#     _, predictions = torch.max(output.data, 1)\n",
    "#     num_correct_pred += (predictions == label).sum().item()\n",
    "\n",
    "# # Calculating Accuracy\n",
    "# accuracy = num_correct_pred/(len(test_dataloader)*test_dataloader.batch_size)\n",
    "\n",
    "# # Print Accuracy\n",
    "# print(\"Accuracy: {}\".format(accuracy))"
   ]
  }
 ],
 "metadata": {
  "language_info": {
   "name": "python"
  },
  "orig_nbformat": 4
 },
 "nbformat": 4,
 "nbformat_minor": 2
}
