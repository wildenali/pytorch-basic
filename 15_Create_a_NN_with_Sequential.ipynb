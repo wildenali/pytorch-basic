{
 "cells": [
  {
   "attachments": {},
   "cell_type": "markdown",
   "metadata": {},
   "source": [
    "- https://deeplearninguniversity.com/pytorch/pytorch-sequential/"
   ]
  },
  {
   "cell_type": "code",
   "execution_count": 7,
   "metadata": {},
   "outputs": [],
   "source": [
    "import torch.nn as nn\n",
    "import torch.nn.functional as F"
   ]
  },
  {
   "attachments": {},
   "cell_type": "markdown",
   "metadata": {},
   "source": [
    "# The Sequential API"
   ]
  },
  {
   "cell_type": "code",
   "execution_count": 11,
   "metadata": {},
   "outputs": [
    {
     "ename": "SyntaxError",
     "evalue": "invalid syntax (2308675986.py, line 11)",
     "output_type": "error",
     "traceback": [
      "\u001b[1;36m  Cell \u001b[1;32mIn[11], line 11\u001b[1;36m\u001b[0m\n\u001b[1;33m    nn.ReLU()\u001b[0m\n\u001b[1;37m    ^\u001b[0m\n\u001b[1;31mSyntaxError\u001b[0m\u001b[1;31m:\u001b[0m invalid syntax\n"
     ]
    }
   ],
   "source": [
    "class MyNeuralNetwork(nn.Module):\n",
    "    def __init__(self):\n",
    "        # # Architecture of Model\n",
    "        # code for the architecture of the Neural Network\n",
    "        super(MyNeuralNetwork, self).__init__()\n",
    "        \n",
    "        # The Sequential API\n",
    "        # densenet is a stack of multiple layers chained together\n",
    "        self.densenet=nn.Sequential(\n",
    "            nn.Linear(784, 300)\n",
    "            nn.ReLU()\n",
    "            nn.Linear(300, 100)\n",
    "            nn.ReLU()\n",
    "            nn.Linear(100, 10)\n",
    "        )\n",
    "    \n",
    "    def forward(self, x):\n",
    "        x = self.densenet(x)\n",
    "        return x"
   ]
  },
  {
   "attachments": {},
   "cell_type": "markdown",
   "metadata": {},
   "source": [
    "# Creating the Model"
   ]
  },
  {
   "cell_type": "code",
   "execution_count": 9,
   "metadata": {},
   "outputs": [
    {
     "ename": "TypeError",
     "evalue": "list is not a Module subclass",
     "output_type": "error",
     "traceback": [
      "\u001b[1;31m---------------------------------------------------------------------------\u001b[0m",
      "\u001b[1;31mTypeError\u001b[0m                                 Traceback (most recent call last)",
      "Cell \u001b[1;32mIn[9], line 2\u001b[0m\n\u001b[0;32m      1\u001b[0m \u001b[39m# Creating a Neural Network model using Sequential API\u001b[39;00m\n\u001b[1;32m----> 2\u001b[0m mynet \u001b[39m=\u001b[39m MyNeuralNetwork()\n\u001b[0;32m      3\u001b[0m \u001b[39mprint\u001b[39m(mynet)\n",
      "Cell \u001b[1;32mIn[8], line 9\u001b[0m, in \u001b[0;36mMyNeuralNetwork.__init__\u001b[1;34m(self)\u001b[0m\n\u001b[0;32m      5\u001b[0m \u001b[39msuper\u001b[39m(MyNeuralNetwork, \u001b[39mself\u001b[39m)\u001b[39m.\u001b[39m\u001b[39m__init__\u001b[39m()\n\u001b[0;32m      7\u001b[0m \u001b[39m# The Sequential API\u001b[39;00m\n\u001b[0;32m      8\u001b[0m \u001b[39m# densenet is a stack of multiple layers chained together\u001b[39;00m\n\u001b[1;32m----> 9\u001b[0m \u001b[39mself\u001b[39m\u001b[39m.\u001b[39mdensenet \u001b[39m=\u001b[39m nn\u001b[39m.\u001b[39;49mSequential([\n\u001b[0;32m     10\u001b[0m             nn\u001b[39m.\u001b[39;49mLinear(\u001b[39m784\u001b[39;49m, \u001b[39m300\u001b[39;49m),\n\u001b[0;32m     11\u001b[0m             nn\u001b[39m.\u001b[39;49mReLU(),\n\u001b[0;32m     12\u001b[0m             nn\u001b[39m.\u001b[39;49mLinear(\u001b[39m300\u001b[39;49m, \u001b[39m100\u001b[39;49m),\n\u001b[0;32m     13\u001b[0m             nn\u001b[39m.\u001b[39;49mReLU(),\n\u001b[0;32m     14\u001b[0m             nn\u001b[39m.\u001b[39;49mLinear(\u001b[39m100\u001b[39;49m, \u001b[39m10\u001b[39;49m)\n\u001b[0;32m     15\u001b[0m         ])\n",
      "File \u001b[1;32mc:\\Users\\wilden\\anaconda3\\envs\\pytorch-basic\\lib\\site-packages\\torch\\nn\\modules\\container.py:104\u001b[0m, in \u001b[0;36mSequential.__init__\u001b[1;34m(self, *args)\u001b[0m\n\u001b[0;32m    102\u001b[0m \u001b[39melse\u001b[39;00m:\n\u001b[0;32m    103\u001b[0m     \u001b[39mfor\u001b[39;00m idx, module \u001b[39min\u001b[39;00m \u001b[39menumerate\u001b[39m(args):\n\u001b[1;32m--> 104\u001b[0m         \u001b[39mself\u001b[39;49m\u001b[39m.\u001b[39;49madd_module(\u001b[39mstr\u001b[39;49m(idx), module)\n",
      "File \u001b[1;32mc:\\Users\\wilden\\anaconda3\\envs\\pytorch-basic\\lib\\site-packages\\torch\\nn\\modules\\module.py:596\u001b[0m, in \u001b[0;36mModule.add_module\u001b[1;34m(self, name, module)\u001b[0m\n\u001b[0;32m    586\u001b[0m \u001b[39m\u001b[39m\u001b[39mr\u001b[39m\u001b[39m\"\"\"Adds a child module to the current module.\u001b[39;00m\n\u001b[0;32m    587\u001b[0m \n\u001b[0;32m    588\u001b[0m \u001b[39mThe module can be accessed as an attribute using the given name.\u001b[39;00m\n\u001b[1;32m   (...)\u001b[0m\n\u001b[0;32m    593\u001b[0m \u001b[39m    module (Module): child module to be added to the module.\u001b[39;00m\n\u001b[0;32m    594\u001b[0m \u001b[39m\"\"\"\u001b[39;00m\n\u001b[0;32m    595\u001b[0m \u001b[39mif\u001b[39;00m \u001b[39mnot\u001b[39;00m \u001b[39misinstance\u001b[39m(module, Module) \u001b[39mand\u001b[39;00m module \u001b[39mis\u001b[39;00m \u001b[39mnot\u001b[39;00m \u001b[39mNone\u001b[39;00m:\n\u001b[1;32m--> 596\u001b[0m     \u001b[39mraise\u001b[39;00m \u001b[39mTypeError\u001b[39;00m(\u001b[39m\"\u001b[39m\u001b[39m{}\u001b[39;00m\u001b[39m is not a Module subclass\u001b[39m\u001b[39m\"\u001b[39m\u001b[39m.\u001b[39mformat(\n\u001b[0;32m    597\u001b[0m         torch\u001b[39m.\u001b[39mtypename(module)))\n\u001b[0;32m    598\u001b[0m \u001b[39melif\u001b[39;00m \u001b[39mnot\u001b[39;00m \u001b[39misinstance\u001b[39m(name, \u001b[39mstr\u001b[39m):\n\u001b[0;32m    599\u001b[0m     \u001b[39mraise\u001b[39;00m \u001b[39mTypeError\u001b[39;00m(\u001b[39m\"\u001b[39m\u001b[39mmodule name should be a string. Got \u001b[39m\u001b[39m{}\u001b[39;00m\u001b[39m\"\u001b[39m\u001b[39m.\u001b[39mformat(\n\u001b[0;32m    600\u001b[0m         torch\u001b[39m.\u001b[39mtypename(name)))\n",
      "\u001b[1;31mTypeError\u001b[0m: list is not a Module subclass"
     ]
    }
   ],
   "source": [
    "# Creating a Neural Network model using Sequential API\n",
    "mynet = MyNeuralNetwork()\n",
    "print(mynet)"
   ]
  }
 ],
 "metadata": {
  "kernelspec": {
   "display_name": "pytorch-basic",
   "language": "python",
   "name": "python3"
  },
  "language_info": {
   "codemirror_mode": {
    "name": "ipython",
    "version": 3
   },
   "file_extension": ".py",
   "mimetype": "text/x-python",
   "name": "python",
   "nbconvert_exporter": "python",
   "pygments_lexer": "ipython3",
   "version": "3.8.16"
  },
  "orig_nbformat": 4
 },
 "nbformat": 4,
 "nbformat_minor": 2
}
