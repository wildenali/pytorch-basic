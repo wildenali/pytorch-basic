{
 "cells": [
  {
   "cell_type": "code",
   "execution_count": 1,
   "metadata": {},
   "outputs": [],
   "source": [
    "import torch"
   ]
  },
  {
   "attachments": {},
   "cell_type": "markdown",
   "metadata": {},
   "source": [
    "# View"
   ]
  },
  {
   "cell_type": "code",
   "execution_count": 4,
   "metadata": {},
   "outputs": [
    {
     "name": "stdout",
     "output_type": "stream",
     "text": [
      "tensor([[1, 2],\n",
      "        [3, 4]])\n",
      "tensor([[1],\n",
      "        [2],\n",
      "        [3],\n",
      "        [4]])\n",
      "tensor([[-1],\n",
      "        [ 2],\n",
      "        [ 3],\n",
      "        [ 4]])\n"
     ]
    }
   ],
   "source": [
    "tensor_1 = torch.tensor([[1, 2], [3, 4]])\n",
    "print(tensor_1)\n",
    "\n",
    "# Create tensor_2 as a view of tensor_1\n",
    "tensor_2 = tensor_1.view(4, 1)\n",
    "\n",
    "print(tensor_2)\n",
    "# Outputs- tensor([[1], [2], [3], [4]])\n",
    "\n",
    "# Changing data in the original tensor\n",
    "tensor_1[0][0] = -1\n",
    "\n",
    "print(tensor_2)\n",
    "# Outputs- tensor([[-1], [2], [3], [4]])"
   ]
  },
  {
   "cell_type": "code",
   "execution_count": 7,
   "metadata": {},
   "outputs": [],
   "source": [
    "tensor_1 = torch.tensor([[1, 2], [3, 4]])\n",
    "\n",
    "# Storing the transpose of tensor_1 in a new tensor\n",
    "# This makes the new tensor(tensor_2) non-contiguous\n",
    "tensor_2 = tensor_1.t()\n",
    "\n",
    "# print(tensor_2.view(4, 1))\n",
    "# # Outputs- RuntimeError: view size is not compatible with input tensor's size and stride (at least one dimension spans across two contiguous subspaces). Use .reshape(...) instead."
   ]
  },
  {
   "cell_type": "code",
   "execution_count": 8,
   "metadata": {},
   "outputs": [
    {
     "name": "stdout",
     "output_type": "stream",
     "text": [
      "tensor([[1],\n",
      "        [3],\n",
      "        [2],\n",
      "        [4]])\n"
     ]
    }
   ],
   "source": [
    "tensor_1 = torch.tensor([[1, 2], [3, 4]])\n",
    "\n",
    "# Storing the transpose of tensor_1 in a new tensor\n",
    "# This makes the new tensor(tensor_2) non-contiguous\n",
    "tensor_2 = tensor_1.t()\n",
    "\n",
    "# tensor_contg is a contiguous tensor created from tensor_2 \n",
    "tensor_contg = tensor_2.contiguous()\n",
    "\n",
    "print(tensor_contg.view(4, 1))\n",
    "# Outputs- tensor([[1], [3], [2], [4]])"
   ]
  },
  {
   "attachments": {},
   "cell_type": "markdown",
   "metadata": {},
   "source": [
    "# Reshape"
   ]
  },
  {
   "cell_type": "code",
   "execution_count": 9,
   "metadata": {},
   "outputs": [
    {
     "name": "stdout",
     "output_type": "stream",
     "text": [
      "tensor([[1],\n",
      "        [2],\n",
      "        [3],\n",
      "        [4]])\n",
      "tensor([[-1],\n",
      "        [ 2],\n",
      "        [ 3],\n",
      "        [ 4]])\n"
     ]
    }
   ],
   "source": [
    "tensor_1 = torch.tensor([[1, 2], [3, 4]])\n",
    "\n",
    "# Create tensor_2 from tensor_1 using reshape() function\n",
    "tensor_2 = tensor_1.reshape(4, 1)\n",
    "\n",
    "print(tensor_2)\n",
    "# Outputs- tensor([[1], [2], [3], [4]])\n",
    "\n",
    "# Changing data in the original tensor\n",
    "tensor_1[0][0] = -1\n",
    "\n",
    "print(tensor_2)\n",
    "# Outputs- tensor([[-1], [2], [3], [4]])"
   ]
  },
  {
   "cell_type": "code",
   "execution_count": 10,
   "metadata": {},
   "outputs": [
    {
     "name": "stdout",
     "output_type": "stream",
     "text": [
      "tensor([[-1,  2],\n",
      "        [ 3,  4]])\n",
      "tensor([[1],\n",
      "        [3],\n",
      "        [2],\n",
      "        [4]])\n"
     ]
    }
   ],
   "source": [
    "tensor_1 = torch.tensor([[1, 2], [3, 4]])\n",
    "\n",
    "# Storing the transpose of tensor_1 in a new tensor\n",
    "# This makes the new tensor(tensor_2) non-contiguous\n",
    "tensor_2 = tensor_1.t()\n",
    "\n",
    "# Calling the reshape() function on a non-contiguous tensor \n",
    "tensor_3 = tensor_2.reshape(4, 1)\n",
    "\n",
    "# Changing data in the original tensor\n",
    "tensor_1[0][0] = -1\n",
    "\n",
    "print(tensor_1)\n",
    "# Outputs- tensor([[-1,  2], [3,  4]])\n",
    "\n",
    "print(tensor_3)\n",
    "# Outputs- tensor([[1], [3], [2], [4]])"
   ]
  },
  {
   "attachments": {},
   "cell_type": "markdown",
   "metadata": {},
   "source": [
    "Difference between reshape() and view()\n",
    "- https://deeplearninguniversity.com/pytorch/pytorch-tensor-reshaping/"
   ]
  },
  {
   "attachments": {},
   "cell_type": "markdown",
   "metadata": {},
   "source": [
    "# Permute"
   ]
  },
  {
   "cell_type": "code",
   "execution_count": 11,
   "metadata": {},
   "outputs": [
    {
     "name": "stdout",
     "output_type": "stream",
     "text": [
      "torch.Size([299, 299, 3])\n",
      "torch.Size([3, 299, 299])\n"
     ]
    }
   ],
   "source": [
    "# Creating a random tensor to denote a 299*299 RGB image\n",
    "img_tensor = torch.rand(299, 299, 3)\n",
    "\n",
    "print(img_tensor.shape)\n",
    "# Outputs- torch.Size([299, 299, 3])\n",
    "\n",
    "# Re-arranging the tensor from [height, width, channel] to [channel, height, width]\n",
    "rearranged_img_tensor=img_tensor.permute(2, 0, 1)\n",
    "\n",
    "print(rearranged_img_tensor.shape)\n",
    "# Outputs- torch.Size([3, 299, 299])"
   ]
  }
 ],
 "metadata": {
  "kernelspec": {
   "display_name": "pytorch-basic",
   "language": "python",
   "name": "python3"
  },
  "language_info": {
   "codemirror_mode": {
    "name": "ipython",
    "version": 3
   },
   "file_extension": ".py",
   "mimetype": "text/x-python",
   "name": "python",
   "nbconvert_exporter": "python",
   "pygments_lexer": "ipython3",
   "version": "3.8.16"
  },
  "orig_nbformat": 4
 },
 "nbformat": 4,
 "nbformat_minor": 2
}
