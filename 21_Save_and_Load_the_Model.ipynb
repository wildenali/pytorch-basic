{
 "cells": [
  {
   "cell_type": "code",
   "execution_count": 1,
   "metadata": {},
   "outputs": [],
   "source": [
    "import torch"
   ]
  },
  {
   "attachments": {},
   "cell_type": "markdown",
   "metadata": {},
   "source": [
    "- https://deeplearninguniversity.com/pytorch/pytorch-model-saving-and-loading/"
   ]
  },
  {
   "attachments": {},
   "cell_type": "markdown",
   "metadata": {},
   "source": [
    "how to create a dense feed-forward Artificial Neural Network(ANN) model in Pytorch."
   ]
  },
  {
   "cell_type": "code",
   "execution_count": 2,
   "metadata": {},
   "outputs": [],
   "source": [
    "import torch.nn as nn\n",
    "import torch.nn.functional as F"
   ]
  },
  {
   "attachments": {},
   "cell_type": "markdown",
   "metadata": {},
   "source": [
    "# Subclassing the nn.Module"
   ]
  },
  {
   "cell_type": "code",
   "execution_count": 3,
   "metadata": {},
   "outputs": [],
   "source": [
    "class MyNeuralNetwork(nn.Module):\n",
    "    def __init__(self):\n",
    "        # # Architecture of Model\n",
    "        # code for the architecture of the Neural Network\n",
    "        super(MyNeuralNetwork, self).__init__()\n",
    "        self.dense_layer1 = nn.Linear(784, 300)\n",
    "        self.dense_layer2 = nn.Linear(300, 100)\n",
    "        self.dense_layer3 = nn.Linear(100, 10)\n",
    "    \n",
    "    def forward(self, x):\n",
    "        # code for the flow of data through the Neural Network\n",
    "        # applying ReLU activation function to the output of dense_layer1\n",
    "        x = F.relu(self.dense_layer1)\n",
    "\n",
    "        # applying ReLU activation function to the output of dense_layer2\n",
    "        x = F.relu(self.dense_layer2)\n",
    "\n",
    "        # applying softmax activation function to the output of dense_layer3\n",
    "        x = F.softmax(self.dense_layer3)\n",
    "\n",
    "        #returning the output\n",
    "        return x"
   ]
  },
  {
   "attachments": {},
   "cell_type": "markdown",
   "metadata": {},
   "source": [
    "# Creating the Model"
   ]
  },
  {
   "cell_type": "code",
   "execution_count": 5,
   "metadata": {},
   "outputs": [
    {
     "name": "stdout",
     "output_type": "stream",
     "text": [
      "MyNeuralNetwork(\n",
      "  (dense_layer1): Linear(in_features=784, out_features=300, bias=True)\n",
      "  (dense_layer2): Linear(in_features=300, out_features=100, bias=True)\n",
      "  (dense_layer3): Linear(in_features=100, out_features=10, bias=True)\n",
      ")\n"
     ]
    }
   ],
   "source": [
    "# Creating a Neural Network model\n",
    "mynet = MyNeuralNetwork()\n",
    "print(mynet)"
   ]
  },
  {
   "cell_type": "code",
   "execution_count": 8,
   "metadata": {},
   "outputs": [],
   "source": [
    "# Save the model as mynet_v1.pt at the given path\n",
    "torch.save(mynet, './21_Save_Model/mynet_v1.pt')"
   ]
  },
  {
   "cell_type": "code",
   "execution_count": 11,
   "metadata": {},
   "outputs": [
    {
     "name": "stdout",
     "output_type": "stream",
     "text": [
      "MyNeuralNetwork(\n",
      "  (dense_layer1): Linear(in_features=784, out_features=300, bias=True)\n",
      "  (dense_layer2): Linear(in_features=300, out_features=100, bias=True)\n",
      "  (dense_layer3): Linear(in_features=100, out_features=10, bias=True)\n",
      ")\n"
     ]
    }
   ],
   "source": [
    "# Load the model from mynet_v1.py file as mynet_saved\n",
    "mynet_saved = torch.load('./21_Save_Model/mynet_v1.pt')\n",
    "print(mynet_saved)"
   ]
  }
 ],
 "metadata": {
  "kernelspec": {
   "display_name": "pytorch-basic",
   "language": "python",
   "name": "python3"
  },
  "language_info": {
   "codemirror_mode": {
    "name": "ipython",
    "version": 3
   },
   "file_extension": ".py",
   "mimetype": "text/x-python",
   "name": "python",
   "nbconvert_exporter": "python",
   "pygments_lexer": "ipython3",
   "version": "3.8.16"
  },
  "orig_nbformat": 4
 },
 "nbformat": 4,
 "nbformat_minor": 2
}
