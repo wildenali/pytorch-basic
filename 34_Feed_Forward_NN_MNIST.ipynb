{
 "cells": [
  {
   "attachments": {},
   "cell_type": "markdown",
   "metadata": {},
   "source": [
    "# Feed Forward Neural Network\n",
    "Pada percobaan kali ini kita akan menggunakan dataset MNIST yaitu dataset yang berisi gambar-gambar angka tulisan tangan."
   ]
  },
  {
   "cell_type": "code",
   "execution_count": 11,
   "metadata": {},
   "outputs": [],
   "source": [
    "import torch\n",
    "import torch.nn as nn\n",
    "import torchvision\n",
    "import torchvision.transforms as transforms\n",
    "import matplotlib.pyplot as plt\n",
    "from tqdm import tqdm"
   ]
  },
  {
   "attachments": {},
   "cell_type": "markdown",
   "metadata": {},
   "source": [
    "### Menggunakan GPU kalau ada"
   ]
  },
  {
   "cell_type": "code",
   "execution_count": 12,
   "metadata": {},
   "outputs": [
    {
     "name": "stdout",
     "output_type": "stream",
     "text": [
      "cpu\n"
     ]
    }
   ],
   "source": [
    "device = torch.device('cuda' if torch.cuda.is_available() else 'cpu')\n",
    "print(device)"
   ]
  },
  {
   "attachments": {},
   "cell_type": "markdown",
   "metadata": {},
   "source": [
    "# Hyperparameter\n",
    "\n",
    "- input sebesar 794 didapat dari ukuran piksel pada satu buah gambar\n",
    "- output sebesar 10 didapat dari jumlah kelas yang ada, yaitu angka digit dari 0 - 9"
   ]
  },
  {
   "cell_type": "code",
   "execution_count": 27,
   "metadata": {},
   "outputs": [],
   "source": [
    "input_size      = 784\n",
    "hidden_size     = 500\n",
    "num_classes     = 10    # digit 0-9\n",
    "num_epochs       = 2\n",
    "batch_size      = 100\n",
    "learning_rate   = 0.01"
   ]
  },
  {
   "attachments": {},
   "cell_type": "markdown",
   "metadata": {},
   "source": [
    "# Mempersiapkan Dataset\n",
    "Train Test Torchvision menyediakan beberapa datasets yang kerap digunakan pada library torchvision.datasets. Informasi lebih lanjut dapat dilihat pada dokumentasi torchvision.datasets. Khusus untuk dataset MNIST, detail lebih lengkap dapat dilihat pada tautan berikut ini.\n",
    "\n",
    "- root='./data': Lokasi dataset yang akan digunakan.\n",
    "- train=True: Menentukan dataset yang digunakan untuk training atau tidak.\n",
    "- transform=transforms.ToTensor(): Transformasi yang akan dilakukan pada dataset.\n",
    "- download=True: Download dataset jika belum ada.\n",
    "\n",
    "DataLoader Detail tentang DataLoader dapat dilihat pada dokumentasi berikut ini.\n",
    "\n",
    "- dataset: Dataset yang akan digunakan.\n",
    "- batch_size: Banyaknya data yang akan dibatasi dalam satu batch\n",
    "- shuffle: Untuk membuat data diacak atau tidak."
   ]
  },
  {
   "cell_type": "code",
   "execution_count": 14,
   "metadata": {},
   "outputs": [],
   "source": [
    "train_dataset   = torchvision.datasets.MNIST(root='./34_data',\n",
    "                                             train=True,\n",
    "                                             transform=transforms.ToTensor(),\n",
    "                                             download=True)"
   ]
  },
  {
   "cell_type": "code",
   "execution_count": 15,
   "metadata": {},
   "outputs": [],
   "source": [
    "test_dataset    = torchvision.datasets.MNIST(root='./34_data',\n",
    "                                           train=False,\n",
    "                                           transform=transforms.ToTensor())"
   ]
  },
  {
   "cell_type": "code",
   "execution_count": 16,
   "metadata": {},
   "outputs": [],
   "source": [
    "train_loader = torch.utils.data.DataLoader(dataset=train_dataset,\n",
    "                                           batch_size=batch_size,\n",
    "                                           shuffle=True)\n",
    "\n",
    "test_loader = torch.utils.data.DataLoader(dataset=test_dataset,\n",
    "                                           batch_size=batch_size,\n",
    "                                           shuffle=False)"
   ]
  },
  {
   "cell_type": "code",
   "execution_count": 20,
   "metadata": {},
   "outputs": [
    {
     "name": "stdout",
     "output_type": "stream",
     "text": [
      "Ukuran sample:  torch.Size([100, 1, 28, 28])\n",
      "Ukuran label :  torch.Size([100])\n"
     ]
    }
   ],
   "source": [
    "example_batch   = iter(train_loader)\n",
    "samples, labels = next(example_batch)       # samples, labels = example_batch.next()\n",
    "print(f\"Ukuran sample:  {samples.shape}\")\n",
    "print(f\"Ukuran label :  {labels.shape}\")"
   ]
  },
  {
   "cell_type": "code",
   "execution_count": 21,
   "metadata": {},
   "outputs": [
    {
     "data": {
      "image/png": "[encoded data removed]",
      "text/plain": [
       "<Figure size 1000x400 with 6 Axes>"
      ]
     },
     "metadata": {},
     "output_type": "display_data"
    }
   ],
   "source": [
    "# show 6 samples image with label using subplot\n",
    "fig = plt.figure(figsize=(10,4))\n",
    "for i in range(6):\n",
    "    plt.subplot(2,3,i+1)\n",
    "    plt.tight_layout()\n",
    "    plt.imshow(samples[i][0], cmap='gist_yarg')\n",
    "    plt.title(\"Digit: {}\".format(labels[i]))\n",
    "    plt.xticks([])\n",
    "    plt.yticks([])"
   ]
  },
  {
   "attachments": {},
   "cell_type": "markdown",
   "metadata": {},
   "source": [
    "Penjelasan Contoh Data Terdapat 100 sampel data pada contoh batch yang dicetak dimana setiap gambar berukuran 28x28 pixel dan ditransformasi menjadi tensor dengan dimensi (1, 28, 28)."
   ]
  },
  {
   "attachments": {},
   "cell_type": "markdown",
   "metadata": {},
   "source": [
    "# Define the Model"
   ]
  },
  {
   "cell_type": "code",
   "execution_count": 24,
   "metadata": {},
   "outputs": [
    {
     "name": "stdout",
     "output_type": "stream",
     "text": [
      "NeuralNet(\n",
      "  (fc1): Linear(in_features=784, out_features=500, bias=True)\n",
      "  (relu): ReLU()\n",
      "  (fc2): Linear(in_features=500, out_features=10, bias=True)\n",
      ")\n"
     ]
    }
   ],
   "source": [
    "class NeuralNet(nn.Module):\n",
    "    def __init__(self, input_size, hidden_size, num_classes):\n",
    "        super(NeuralNet, self).__init__()\n",
    "        self.fc1    = nn.Linear(input_size, hidden_size)\n",
    "        self.relu   = nn.ReLU()\n",
    "        self.fc2    = nn.Linear(hidden_size, num_classes)\n",
    "\n",
    "    def forward(self, x):\n",
    "        out = self.fc1(x)\n",
    "        out = self.relu(out)\n",
    "        out = self.fc2(out)\n",
    "        return out\n",
    "\n",
    "model = NeuralNet(input_size, hidden_size, num_classes).to(device)\n",
    "print(model)"
   ]
  },
  {
   "attachments": {},
   "cell_type": "markdown",
   "metadata": {},
   "source": [
    "# Loss dan Optimizer\n",
    "\n",
    "- Kita akan menggunakan CrossEntropyLoss untuk menghitung loss.\n",
    "- Pada loss function itu sudah terdapat Softmax yang akan menghasilkan probabilitas untuk setiap kelas.\n",
    "- Untuk optimizer, kita akan menggunakan Adam optimizer.\n",
    "- optimizer = torch.optim.Adam(model.parameters(), lr=learning_rate)"
   ]
  },
  {
   "cell_type": "code",
   "execution_count": 26,
   "metadata": {},
   "outputs": [
    {
     "name": "stdout",
     "output_type": "stream",
     "text": [
      "criterion\n",
      " CrossEntropyLoss()\n",
      "optimizer\n",
      " Adam (\n",
      "Parameter Group 0\n",
      "    amsgrad: False\n",
      "    betas: (0.9, 0.999)\n",
      "    capturable: False\n",
      "    differentiable: False\n",
      "    eps: 1e-08\n",
      "    foreach: None\n",
      "    fused: None\n",
      "    lr: 0.01\n",
      "    maximize: False\n",
      "    weight_decay: 0\n",
      ")\n"
     ]
    }
   ],
   "source": [
    "criterion = nn.CrossEntropyLoss()\n",
    "optimizer = torch.optim.Adam(model.parameters(), lr=learning_rate)\n",
    "print(\"criterion\\n\", criterion)\n",
    "print(\"optimizer\\n\", optimizer)"
   ]
  },
  {
   "attachments": {},
   "cell_type": "markdown",
   "metadata": {},
   "source": [
    "# Training Loop\n",
    "- images perlu di reshape karena input yang kita gunakan pada neural network berukuran 784\n",
    "- sebelumnya images memiliki dimensi (1, 28, 28) -> 1 channel, 28 pixel panjang, 28 pixel lebar\n",
    "- Diubah menjadi array dengan dimensi (1, 784)"
   ]
  },
  {
   "cell_type": "code",
   "execution_count": 29,
   "metadata": {},
   "outputs": [
    {
     "name": "stdout",
     "output_type": "stream",
     "text": [
      "Epoch [1/2], Step [100/600], Loss: 0.2766\n",
      "Epoch [1/2], Step [200/600], Loss: 0.1063\n",
      "Epoch [1/2], Step [300/600], Loss: 0.1588\n",
      "Epoch [1/2], Step [400/600], Loss: 0.1395\n",
      "Epoch [1/2], Step [500/600], Loss: 0.2015\n",
      "Epoch [1/2], Step [600/600], Loss: 0.1549\n",
      "Epoch [2/2], Step [100/600], Loss: 0.1782\n",
      "Epoch [2/2], Step [200/600], Loss: 0.0912\n",
      "Epoch [2/2], Step [300/600], Loss: 0.2114\n",
      "Epoch [2/2], Step [400/600], Loss: 0.1434\n",
      "Epoch [2/2], Step [500/600], Loss: 0.2154\n",
      "Epoch [2/2], Step [600/600], Loss: 0.0608\n"
     ]
    }
   ],
   "source": [
    "n_total_step = len(train_loader)\n",
    "\n",
    "for epoch in range(num_epochs):\n",
    "    for i, (images, labels) in enumerate(train_loader):\n",
    "        images = images.reshape(-1, 28*28).to(device)\n",
    "        labels = labels.to(device)\n",
    "\n",
    "        # Forward pass\n",
    "        outputs = model(images)\n",
    "        loss = criterion(outputs, labels)\n",
    "\n",
    "        # Backward pass\n",
    "        optimizer.zero_grad()\n",
    "        loss.backward()\n",
    "        optimizer.step()\n",
    "\n",
    "        if (i+1) % 100 == 0:\n",
    "            print(f'Epoch [{epoch+1}/{num_epochs}], Step [{i+1}/{n_total_step}], Loss: {loss.item():.4f}')"
   ]
  },
  {
   "attachments": {},
   "cell_type": "markdown",
   "metadata": {},
   "source": [
    "# Testing the Model"
   ]
  },
  {
   "cell_type": "code",
   "execution_count": 30,
   "metadata": {},
   "outputs": [
    {
     "name": "stdout",
     "output_type": "stream",
     "text": [
      "Akurasi: 96.93\n"
     ]
    }
   ],
   "source": [
    "with torch.no_grad():\n",
    "    n_correct = 0\n",
    "    n_samples = 0\n",
    "\n",
    "    for images, labels in test_loader:\n",
    "        images = images.reshape(-1, 28*28).to(device)\n",
    "        labels = labels.to(device)\n",
    "        outputs = model(images)\n",
    "        _, predicted = torch.max(outputs.data, 1)\n",
    "        n_samples += labels.size(0)\n",
    "        n_correct += (predicted == labels).sum().item()\n",
    "\n",
    "    accuracy = 100.0 * n_correct / n_samples\n",
    "    print(f'Akurasi: {accuracy}')"
   ]
  }
 ],
 "metadata": {
  "kernelspec": {
   "display_name": "pytorch-basic",
   "language": "python",
   "name": "python3"
  },
  "language_info": {
   "codemirror_mode": {
    "name": "ipython",
    "version": 3
   },
   "file_extension": ".py",
   "mimetype": "text/x-python",
   "name": "python",
   "nbconvert_exporter": "python",
   "pygments_lexer": "ipython3",
   "version": "3.8.16"
  },
  "orig_nbformat": 4
 },
 "nbformat": 4,
 "nbformat_minor": 2
}
