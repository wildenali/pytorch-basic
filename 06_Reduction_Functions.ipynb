{
 "cells": [
  {
   "cell_type": "code",
   "execution_count": 1,
   "metadata": {},
   "outputs": [],
   "source": [
    "import torch"
   ]
  },
  {
   "attachments": {},
   "cell_type": "markdown",
   "metadata": {},
   "source": [
    "# Mean"
   ]
  },
  {
   "cell_type": "code",
   "execution_count": 4,
   "metadata": {},
   "outputs": [
    {
     "name": "stdout",
     "output_type": "stream",
     "text": [
      "tensor(6.1667)\n",
      "tensor(6.1667)\n"
     ]
    }
   ],
   "source": [
    "x = torch.tensor([[1., 4., 7.], [4., 9., 11.]])\n",
    "# (1+4+7+4+9+11)/6\n",
    "print(torch.mean(x))\n",
    "# Outputs- tensor(6.)\n",
    "\n",
    "print(x.mean())\n",
    "# Outputs- tensor(6.)"
   ]
  },
  {
   "attachments": {},
   "cell_type": "markdown",
   "metadata": {},
   "source": [
    "# Median"
   ]
  },
  {
   "cell_type": "code",
   "execution_count": 35,
   "metadata": {},
   "outputs": [
    {
     "name": "stdout",
     "output_type": "stream",
     "text": [
      "tensor(5.)\n",
      "tensor(5.)\n"
     ]
    }
   ],
   "source": [
    "x = torch.tensor([[1., 1., 4., 5., 6., 7., 8]])\n",
    "print(torch.median(x))\n",
    "# Outputs- tensor(5.)\n",
    "\n",
    "print(x.median())\n",
    "# Outputs- tensor(5.)"
   ]
  },
  {
   "cell_type": "code",
   "execution_count": 36,
   "metadata": {},
   "outputs": [
    {
     "name": "stdout",
     "output_type": "stream",
     "text": [
      "tensor(4.)\n",
      "tensor(4.)\n"
     ]
    }
   ],
   "source": [
    "x = torch.tensor([[1., 1., 4.,], [5., 6., 8]])\n",
    "print(torch.median(x))\n",
    "# Outputs- tensor(4.)\n",
    "\n",
    "print(x.median())\n",
    "# Outputs- tensor(4.)"
   ]
  },
  {
   "attachments": {},
   "cell_type": "markdown",
   "metadata": {},
   "source": [
    "# Mode\n",
    "torch.mode(x) returns a named tuple of the form (values, indices), where values contains the mode value for each row, and indices contains the index of the occurrence of last mode value in each row.\n",
    "\n",
    "Yang paling banyak muncul"
   ]
  },
  {
   "cell_type": "code",
   "execution_count": 38,
   "metadata": {},
   "outputs": [
    {
     "name": "stdout",
     "output_type": "stream",
     "text": [
      "torch.return_types.mode(\n",
      "values=tensor([ 1, 11]),\n",
      "indices=tensor([3, 1]))\n",
      "torch.return_types.mode(\n",
      "values=tensor([ 1, 11]),\n",
      "indices=tensor([3, 1]))\n"
     ]
    }
   ],
   "source": [
    "x = torch.tensor([[1, 4, 7, 1], [11, 11, 7, 1]])\n",
    "\n",
    "print(torch.mode(x))\n",
    "# Outputs- torch.return_types.mode(values=tensor([1, 11]), indices=tensor([3, 1]))\n",
    "# values=tensor([ 1, 11]) Artinya yang paling banyak muncul adalah 1 dan 11\n",
    "# indices=tensor([3, 1])) Artinya index terakhir yg muncul ada di indeks ke 3 untuk angka 1, dan\n",
    "# 1 adalah index terkhir yg muncul untuk angka 11\n",
    "print(x.mode())\n",
    "# Outputs- torch.return_types.mode(values=tensor([1, 11]), indices=tensor([3, 1]))"
   ]
  },
  {
   "cell_type": "code",
   "execution_count": 42,
   "metadata": {},
   "outputs": [
    {
     "data": {
      "text/plain": [
       "torch.return_types.mode(\n",
       "values=tensor([5, 2, 0, 6, 0]),\n",
       "indices=tensor([41, 41, 41, 41, 41]))"
      ]
     },
     "execution_count": 42,
     "metadata": {},
     "output_type": "execute_result"
    }
   ],
   "source": [
    "a = torch.randint(10, (5,))\n",
    "# tensor([6, 5, 1, 0, 2])\n",
    "b = a + (torch.randn(50, 1) * 5).long()\n",
    "torch.mode(b, 0)\n",
    "# torch.return_types.mode(values=tensor([6, 5, 1, 0, 2]), indices=tensor([2, 2, 2, 2, 2]))"
   ]
  },
  {
   "cell_type": "code",
   "execution_count": 43,
   "metadata": {},
   "outputs": [
    {
     "data": {
      "text/plain": [
       "torch.return_types.mode(\n",
       "values=tensor(2),\n",
       "indices=tensor(4))"
      ]
     },
     "execution_count": 43,
     "metadata": {},
     "output_type": "execute_result"
    }
   ],
   "source": [
    "torch.mode(a, 0)"
   ]
  },
  {
   "attachments": {},
   "cell_type": "markdown",
   "metadata": {},
   "source": [
    "# Standard Deviation"
   ]
  },
  {
   "cell_type": "code",
   "execution_count": 45,
   "metadata": {},
   "outputs": [
    {
     "name": "stdout",
     "output_type": "stream",
     "text": [
      "T: tensor([ 2.4530,  4.4320,  0.7540, -6.5540])\n",
      "Mean: tensor(0.2713)\n",
      "Standard deviation: tensor(4.7920)\n"
     ]
    }
   ],
   "source": [
    "# Create a tensor\n",
    "T = torch.Tensor([2.453, 4.432, 0.754, -6.554])\n",
    "print(\"T:\", T)\n",
    "# Compute the mean and standard deviation\n",
    "mean = torch.mean(T)\n",
    "std = torch.std(T)\n",
    "\n",
    "# Print the computed mean and standard deviation\n",
    "print(\"Mean:\", mean)\n",
    "print(\"Standard deviation:\", std)"
   ]
  },
  {
   "cell_type": "code",
   "execution_count": 46,
   "metadata": {},
   "outputs": [
    {
     "name": "stdout",
     "output_type": "stream",
     "text": [
      "tensor(4.7504)\n",
      "tensor(4.7504)\n"
     ]
    }
   ],
   "source": [
    "x = torch.tensor([[1., 4., 1.], [11., 9., 11.]])\n",
    "\n",
    "print(torch.std(x))\n",
    "# Outputs- tensor(4.7504)\n",
    "\n",
    "print(x.std())\n",
    "# Outputs- tensor(4.7504)"
   ]
  },
  {
   "cell_type": "code",
   "execution_count": 47,
   "metadata": {},
   "outputs": [
    {
     "name": "stdout",
     "output_type": "stream",
     "text": [
      "T:\n",
      " tensor([[  2.,   4.,   7.,  -6.],\n",
      "        [  7.,  33., -62.,  23.],\n",
      "        [  2.,  -6., -77.,  54.]])\n",
      "Mean: tensor(-1.5833)\n",
      "Standard deviation: tensor(36.2703)\n",
      "Column-wise Mean:\n",
      " tensor([  3.6667,  10.3333, -44.0000,  23.6667])\n",
      "Column-wise Standard deviation:\n",
      " tensor([ 2.8868, 20.2567, 44.7996, 30.0056])\n",
      "Row-wise Mean:\n",
      " tensor([ 1.7500,  0.2500, -6.7500])\n",
      "Row-wise Standard deviation:\n",
      " tensor([ 5.5603, 42.8593, 53.8602])\n"
     ]
    }
   ],
   "source": [
    "# create a 3x4 2D tensor\n",
    "T = torch.Tensor([[2,4,7,-6],\n",
    "[7,33,-62,23],\n",
    "[2,-6,-77,54]])\n",
    "print(\"T:\\n\", T)\n",
    "\n",
    "# compute the mean and standard deviation\n",
    "mean = torch.mean(T)\n",
    "std = torch.std(T)\n",
    "print(\"Mean:\", mean)\n",
    "print(\"Standard deviation:\", std)\n",
    "\n",
    "# Compute column-wise mean and std\n",
    "mean = torch.mean(T, axis = 0)\n",
    "std = torch.std(T, axis = 0)\n",
    "print(\"Column-wise Mean:\\n\", mean)\n",
    "print(\"Column-wise Standard deviation:\\n\", std)\n",
    "\n",
    "# Compute row-wise mean and std\n",
    "mean = torch.mean(T, axis = 1)\n",
    "std = torch.std(T, axis = 1)\n",
    "print(\"Row-wise Mean:\\n\", mean)\n",
    "print(\"Row-wise Standard deviation:\\n\", std)"
   ]
  },
  {
   "attachments": {},
   "cell_type": "markdown",
   "metadata": {},
   "source": [
    "# Variance"
   ]
  },
  {
   "cell_type": "code",
   "execution_count": 50,
   "metadata": {},
   "outputs": [
    {
     "name": "stdout",
     "output_type": "stream",
     "text": [
      "tensor(22.5667)\n",
      "tensor(22.5667)\n"
     ]
    }
   ],
   "source": [
    "x = torch.tensor([[1., 4., 1.], [11., 9., 11.]])\n",
    "\n",
    "print(torch.var(x))\n",
    "# Outputs- tensor(22.5667)\n",
    "\n",
    "print(x.var())\n",
    "# Outputs- tensor(22.5667)"
   ]
  },
  {
   "cell_type": "code",
   "execution_count": 55,
   "metadata": {},
   "outputs": [
    {
     "name": "stdout",
     "output_type": "stream",
     "text": [
      "tensor(3142.5000)\n",
      "tensor(3142.5000)\n"
     ]
    }
   ],
   "source": [
    "# https://accurate.id/ekonomi-keuangan/rumus-varians/\n",
    "x = torch.tensor([670., 765., 780., 820., 735.,])\n",
    "\n",
    "print(torch.var(x))\n",
    "# Outputs- tensor(3142.5000)\n",
    "\n",
    "print(x.var())\n",
    "# Outputs- tensor(3142.5000)"
   ]
  },
  {
   "cell_type": "code",
   "execution_count": 57,
   "metadata": {},
   "outputs": [
    {
     "name": "stdout",
     "output_type": "stream",
     "text": [
      "tensor(124.5536)\n",
      "tensor(124.5536)\n"
     ]
    }
   ],
   "source": [
    "x = torch.tensor([65., 55., 70., 85., 90., 75., 80., 75.])\n",
    "\n",
    "print(torch.var(x))\n",
    "# Outputs- tensor(124.5536)\n",
    "\n",
    "print(x.var())\n",
    "# Outputs- tensor(124.5536)"
   ]
  },
  {
   "attachments": {},
   "cell_type": "markdown",
   "metadata": {},
   "source": [
    "# Product"
   ]
  },
  {
   "cell_type": "code",
   "execution_count": 58,
   "metadata": {},
   "outputs": [
    {
     "name": "stdout",
     "output_type": "stream",
     "text": [
      "tensor(4356)\n",
      "tensor(4356)\n"
     ]
    }
   ],
   "source": [
    "x = torch.tensor([[1, 4, 1], [11, 9, 11]])\n",
    "\n",
    "print(torch.prod(x))\n",
    "# Outputs- tensor(4356)\n",
    "\n",
    "print(x.prod())\n",
    "# Outputs- tensor(4356)"
   ]
  },
  {
   "attachments": {},
   "cell_type": "markdown",
   "metadata": {},
   "source": [
    "# Max"
   ]
  },
  {
   "cell_type": "code",
   "execution_count": 59,
   "metadata": {},
   "outputs": [
    {
     "name": "stdout",
     "output_type": "stream",
     "text": [
      "tensor(11)\n",
      "tensor(11)\n"
     ]
    }
   ],
   "source": [
    "x = torch.tensor([[1, 4, 1], [11, 9, 11]])\n",
    "\n",
    "print(torch.max(x))\n",
    "# Outputs- tensor(11)\n",
    "\n",
    "print(x.max())\n",
    "# Outputs- tensor(11)"
   ]
  },
  {
   "attachments": {},
   "cell_type": "markdown",
   "metadata": {},
   "source": [
    "# Min"
   ]
  },
  {
   "cell_type": "code",
   "execution_count": 60,
   "metadata": {},
   "outputs": [
    {
     "name": "stdout",
     "output_type": "stream",
     "text": [
      "tensor(1)\n",
      "tensor(1)\n"
     ]
    }
   ],
   "source": [
    "x = torch.tensor([[1, 4, 1], [11, 9, 11]])\n",
    "\n",
    "print(torch.min(x))\n",
    "# Outputs- tensor(1)\n",
    "\n",
    "print(x.min())\n",
    "# Outputs- tensor(1)"
   ]
  }
 ],
 "metadata": {
  "kernelspec": {
   "display_name": "pytorch-basic",
   "language": "python",
   "name": "python3"
  },
  "language_info": {
   "codemirror_mode": {
    "name": "ipython",
    "version": 3
   },
   "file_extension": ".py",
   "mimetype": "text/x-python",
   "name": "python",
   "nbconvert_exporter": "python",
   "pygments_lexer": "ipython3",
   "version": "3.8.16"
  },
  "orig_nbformat": 4
 },
 "nbformat": 4,
 "nbformat_minor": 2
}
