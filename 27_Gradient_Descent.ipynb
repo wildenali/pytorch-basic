{
 "cells": [
  {
   "cell_type": "code",
   "execution_count": 8,
   "metadata": {},
   "outputs": [],
   "source": [
    "import torch"
   ]
  },
  {
   "cell_type": "code",
   "execution_count": 9,
   "metadata": {},
   "outputs": [],
   "source": [
    "import numpy as np"
   ]
  },
  {
   "cell_type": "code",
   "execution_count": 10,
   "metadata": {},
   "outputs": [],
   "source": [
    "X = np.array([1, 2, 3, 4], dtype=np.float32)\n",
    "Y = np.array([2, 4, 6, 8], dtype=np.float32)\n",
    "\n",
    "w = 0.0"
   ]
  },
  {
   "cell_type": "code",
   "execution_count": 11,
   "metadata": {},
   "outputs": [],
   "source": [
    "# Prediksi model\n",
    "def forward(x):\n",
    "    return w * x\n",
    "\n",
    "# loss function (dengan MSE)\n",
    "def loss(y, y_pred):\n",
    "    return ((y_pred-y) ** 2).mean()"
   ]
  },
  {
   "attachments": {},
   "cell_type": "markdown",
   "metadata": {},
   "source": [
    "# Menghitung Gradient\n",
    "Gradient dihitung dengan turunan dari loss function $J(\\theta)$ (kita menggunakan contoh Mean Squared Error), dengan $\\theta$ adalah parameter model (sering disebut juga sebagai bobot atau dalam simbol $w$)\n",
    "\n",
    "$$J(\\theta) = \\frac{1}{n} \\sum_{i=1}^{n}(\\theta*x-y)^2$$\n",
    "\n",
    "Sehingga:\n",
    "\n",
    "$$ \\frac{\\partial J}{\\partial \\theta} = \\frac{1}{n} \\sum_{i=1}^{n} 2x(\\theta*x-y)    $$"
   ]
  },
  {
   "cell_type": "code",
   "execution_count": 12,
   "metadata": {},
   "outputs": [
    {
     "name": "stdout",
     "output_type": "stream",
     "text": [
      "Prediksi sebelum training: f(5) = 0.000\n"
     ]
    }
   ],
   "source": [
    "def gradient(x, y, y_pred):\n",
    "    return np.dot(2 * x, y_pred - y).mean()\n",
    "\n",
    "# Mengecek nilai prediksi awal\n",
    "print(f\"Prediksi sebelum training: f(5) = {forward(5):.3f}\")"
   ]
  },
  {
   "attachments": {},
   "cell_type": "markdown",
   "metadata": {},
   "source": [
    "# Training"
   ]
  },
  {
   "cell_type": "code",
   "execution_count": 13,
   "metadata": {},
   "outputs": [
    {
     "name": "stdout",
     "output_type": "stream",
     "text": [
      "Epoch 1: w = 1.200, loss = 30.000\n",
      "Epoch 2: w = 1.680, loss = 4.800\n",
      "Epoch 3: w = 1.872, loss = 0.768\n",
      "Epoch 4: w = 1.949, loss = 0.123\n",
      "Epoch 5: w = 1.980, loss = 0.020\n",
      "Epoch 6: w = 1.992, loss = 0.003\n",
      "Epoch 7: w = 1.997, loss = 0.001\n",
      "Epoch 8: w = 1.999, loss = 0.000\n",
      "Epoch 9: w = 1.999, loss = 0.000\n",
      "Epoch 10: w = 2.000, loss = 0.000\n",
      "Epoch 11: w = 2.000, loss = 0.000\n",
      "Epoch 12: w = 2.000, loss = 0.000\n",
      "Epoch 13: w = 2.000, loss = 0.000\n",
      "Epoch 14: w = 2.000, loss = 0.000\n",
      "Epoch 15: w = 2.000, loss = 0.000\n",
      "Epoch 16: w = 2.000, loss = 0.000\n",
      "Epoch 17: w = 2.000, loss = 0.000\n",
      "Epoch 18: w = 2.000, loss = 0.000\n",
      "Epoch 19: w = 2.000, loss = 0.000\n",
      "Epoch 20: w = 2.000, loss = 0.000\n",
      "Epoch 21: w = 2.000, loss = 0.000\n",
      "Epoch 22: w = 2.000, loss = 0.000\n",
      "Epoch 23: w = 2.000, loss = 0.000\n",
      "Epoch 24: w = 2.000, loss = 0.000\n",
      "Epoch 25: w = 2.000, loss = 0.000\n",
      "Epoch 26: w = 2.000, loss = 0.000\n",
      "Epoch 27: w = 2.000, loss = 0.000\n",
      "Epoch 28: w = 2.000, loss = 0.000\n",
      "Epoch 29: w = 2.000, loss = 0.000\n",
      "Epoch 30: w = 2.000, loss = 0.000\n",
      "Epoch 31: w = 2.000, loss = 0.000\n",
      "Epoch 32: w = 2.000, loss = 0.000\n",
      "Epoch 33: w = 2.000, loss = 0.000\n",
      "Epoch 34: w = 2.000, loss = 0.000\n",
      "Epoch 35: w = 2.000, loss = 0.000\n",
      "Epoch 36: w = 2.000, loss = 0.000\n",
      "Epoch 37: w = 2.000, loss = 0.000\n",
      "Epoch 38: w = 2.000, loss = 0.000\n",
      "Epoch 39: w = 2.000, loss = 0.000\n",
      "Epoch 40: w = 2.000, loss = 0.000\n",
      "Epoch 41: w = 2.000, loss = 0.000\n",
      "Epoch 42: w = 2.000, loss = 0.000\n",
      "Epoch 43: w = 2.000, loss = 0.000\n",
      "Epoch 44: w = 2.000, loss = 0.000\n",
      "Epoch 45: w = 2.000, loss = 0.000\n",
      "Epoch 46: w = 2.000, loss = 0.000\n",
      "Epoch 47: w = 2.000, loss = 0.000\n",
      "Epoch 48: w = 2.000, loss = 0.000\n",
      "Epoch 49: w = 2.000, loss = 0.000\n",
      "Epoch 50: w = 2.000, loss = 0.000\n",
      "Epoch 51: w = 2.000, loss = 0.000\n",
      "Epoch 52: w = 2.000, loss = 0.000\n",
      "Epoch 53: w = 2.000, loss = 0.000\n",
      "Epoch 54: w = 2.000, loss = 0.000\n",
      "Epoch 55: w = 2.000, loss = 0.000\n",
      "Epoch 56: w = 2.000, loss = 0.000\n",
      "Epoch 57: w = 2.000, loss = 0.000\n",
      "Epoch 58: w = 2.000, loss = 0.000\n",
      "Epoch 59: w = 2.000, loss = 0.000\n",
      "Epoch 60: w = 2.000, loss = 0.000\n",
      "Epoch 61: w = 2.000, loss = 0.000\n",
      "Epoch 62: w = 2.000, loss = 0.000\n",
      "Epoch 63: w = 2.000, loss = 0.000\n",
      "Epoch 64: w = 2.000, loss = 0.000\n",
      "Epoch 65: w = 2.000, loss = 0.000\n",
      "Epoch 66: w = 2.000, loss = 0.000\n",
      "Epoch 67: w = 2.000, loss = 0.000\n",
      "Epoch 68: w = 2.000, loss = 0.000\n",
      "Epoch 69: w = 2.000, loss = 0.000\n",
      "Epoch 70: w = 2.000, loss = 0.000\n",
      "Epoch 71: w = 2.000, loss = 0.000\n",
      "Epoch 72: w = 2.000, loss = 0.000\n",
      "Epoch 73: w = 2.000, loss = 0.000\n",
      "Epoch 74: w = 2.000, loss = 0.000\n",
      "Epoch 75: w = 2.000, loss = 0.000\n",
      "Epoch 76: w = 2.000, loss = 0.000\n",
      "Epoch 77: w = 2.000, loss = 0.000\n",
      "Epoch 78: w = 2.000, loss = 0.000\n",
      "Epoch 79: w = 2.000, loss = 0.000\n",
      "Epoch 80: w = 2.000, loss = 0.000\n",
      "Epoch 81: w = 2.000, loss = 0.000\n",
      "Epoch 82: w = 2.000, loss = 0.000\n",
      "Epoch 83: w = 2.000, loss = 0.000\n",
      "Epoch 84: w = 2.000, loss = 0.000\n",
      "Epoch 85: w = 2.000, loss = 0.000\n",
      "Epoch 86: w = 2.000, loss = 0.000\n",
      "Epoch 87: w = 2.000, loss = 0.000\n",
      "Epoch 88: w = 2.000, loss = 0.000\n",
      "Epoch 89: w = 2.000, loss = 0.000\n",
      "Epoch 90: w = 2.000, loss = 0.000\n",
      "Epoch 91: w = 2.000, loss = 0.000\n",
      "Epoch 92: w = 2.000, loss = 0.000\n",
      "Epoch 93: w = 2.000, loss = 0.000\n",
      "Epoch 94: w = 2.000, loss = 0.000\n",
      "Epoch 95: w = 2.000, loss = 0.000\n",
      "Epoch 96: w = 2.000, loss = 0.000\n",
      "Epoch 97: w = 2.000, loss = 0.000\n",
      "Epoch 98: w = 2.000, loss = 0.000\n",
      "Epoch 99: w = 2.000, loss = 0.000\n",
      "Epoch 100: w = 2.000, loss = 0.000\n",
      "Prediksi setelah training: f(5) = 10.000\n"
     ]
    }
   ],
   "source": [
    "learning_rate   = 0.01\n",
    "n_iters         = 100\n",
    "\n",
    "for epoch in range(n_iters):\n",
    "    # forward pass\n",
    "    y_pred = forward(X)\n",
    "\n",
    "    # backward pass\n",
    "    l = loss(Y, y_pred)\n",
    "\n",
    "    # Menghitung Gradient\n",
    "    grad = gradient(X, Y, y_pred)\n",
    "\n",
    "    # Update nilai weight\n",
    "    w -= learning_rate * grad\n",
    "\n",
    "    print(f'Epoch {epoch + 1}: w = {w:.3f}, loss = {l:.3f}')\n",
    "\n",
    "# prediksi setelah training\n",
    "print(f'Prediksi setelah training: f(5) = {forward(5):.3f}')"
   ]
  },
  {
   "attachments": {},
   "cell_type": "markdown",
   "metadata": {},
   "source": [
    "- Dapat diamati bahwa setiap proses training, loss akan semakin kecil\n",
    "- Setiap perulangan, algoritma akan memperbaharui nilai weight hingga nilai loss menjadi 0\n",
    "- Selanjutnya mari implementasi cara diatas dengan PyTorch"
   ]
  }
 ],
 "metadata": {
  "kernelspec": {
   "display_name": "pytorch-basic",
   "language": "python",
   "name": "python3"
  },
  "language_info": {
   "codemirror_mode": {
    "name": "ipython",
    "version": 3
   },
   "file_extension": ".py",
   "mimetype": "text/x-python",
   "name": "python",
   "nbconvert_exporter": "python",
   "pygments_lexer": "ipython3",
   "version": "3.8.16"
  },
  "orig_nbformat": 4
 },
 "nbformat": 4,
 "nbformat_minor": 2
}
