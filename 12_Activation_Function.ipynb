{
 "cells": [
  {
   "cell_type": "code",
   "execution_count": 1,
   "metadata": {},
   "outputs": [],
   "source": [
    "import torch"
   ]
  },
  {
   "attachments": {},
   "cell_type": "markdown",
   "metadata": {},
   "source": [
    "https://deeplearninguniversity.com/pytorch/pytorch-activation-functions/"
   ]
  },
  {
   "cell_type": "code",
   "execution_count": 3,
   "metadata": {},
   "outputs": [],
   "source": [
    "from torch import nn"
   ]
  },
  {
   "cell_type": "code",
   "execution_count": 5,
   "metadata": {},
   "outputs": [
    {
     "name": "stdout",
     "output_type": "stream",
     "text": [
      "tensor([0, 0, 0, 1, 2])\n"
     ]
    }
   ],
   "source": [
    "# Create a tensor\n",
    "input = torch.tensor([-2, -1, 0, 1, 2])\n",
    "\n",
    "# Create a instance of the ReLU (Rectified Linear Unit) activation Layer\n",
    "relu_layer1 = nn.ReLU()\n",
    "\n",
    "# Feeding input tensor to ReLU layer and storing the output\n",
    "output = relu_layer1(input)\n",
    "print(output)\n",
    "# Ouputs- tensor([0, 0, 0, 1, 2])"
   ]
  },
  {
   "attachments": {},
   "cell_type": "markdown",
   "metadata": {},
   "source": [
    "# Activation Function Definitions"
   ]
  },
  {
   "cell_type": "code",
   "execution_count": 6,
   "metadata": {},
   "outputs": [
    {
     "name": "stdout",
     "output_type": "stream",
     "text": [
      "tensor([0, 0, 0, 1, 2])\n"
     ]
    }
   ],
   "source": [
    "from torch.nn import functional as F\n",
    "\n",
    "# Create a tensor\n",
    "input = torch.tensor([-2, -1, 0, 1, 2])\n",
    "\n",
    "# Feeding input tensor to relu function and storing the output\n",
    "output = F.relu(input)\n",
    "\n",
    "print(output)\n",
    "# Ouputs- tensor([0, 0, 0, 1, 2])"
   ]
  }
 ],
 "metadata": {
  "kernelspec": {
   "display_name": "pytorch-basic",
   "language": "python",
   "name": "python3"
  },
  "language_info": {
   "codemirror_mode": {
    "name": "ipython",
    "version": 3
   },
   "file_extension": ".py",
   "mimetype": "text/x-python",
   "name": "python",
   "nbconvert_exporter": "python",
   "pygments_lexer": "ipython3",
   "version": "3.8.16"
  },
  "orig_nbformat": 4
 },
 "nbformat": 4,
 "nbformat_minor": 2
}
