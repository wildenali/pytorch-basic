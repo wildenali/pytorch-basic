{
 "cells": [
  {
   "cell_type": "code",
   "execution_count": 8,
   "metadata": {},
   "outputs": [],
   "source": [
    "import torch"
   ]
  },
  {
   "attachments": {},
   "cell_type": "markdown",
   "metadata": {},
   "source": [
    "https://deeplearninguniversity.com/pytorch/pytorch-matrix-functions/"
   ]
  },
  {
   "attachments": {},
   "cell_type": "markdown",
   "metadata": {},
   "source": [
    "# Transpose"
   ]
  },
  {
   "cell_type": "code",
   "execution_count": 2,
   "metadata": {},
   "outputs": [
    {
     "name": "stdout",
     "output_type": "stream",
     "text": [
      "tensor([[1, 3],\n",
      "        [2, 4]])\n",
      "tensor([[1, 3],\n",
      "        [2, 4]])\n",
      "tensor([[1, 3],\n",
      "        [2, 4]])\n"
     ]
    }
   ],
   "source": [
    "x = torch.tensor([[1, 2], [3, 4]])\n",
    "\n",
    "# Does not make changes to tensor x, stores the result in y\n",
    "y = torch.t(x)\n",
    "\n",
    "print(y)\n",
    "# Outputs- tensor([[1, 3], [2, 4]])\n",
    "\n",
    "print(x.t())\n",
    "# Ouputs- tensor([[1, 3], [2, 4]])\n",
    "\n",
    "# Changes the original tensor\n",
    "x.t_()\n",
    "\n",
    "print(x)\n",
    "# Outputs- tensor([[1, 3], [2, 4]])"
   ]
  },
  {
   "attachments": {},
   "cell_type": "markdown",
   "metadata": {},
   "source": [
    "# Determinant"
   ]
  },
  {
   "cell_type": "code",
   "execution_count": 4,
   "metadata": {},
   "outputs": [
    {
     "name": "stdout",
     "output_type": "stream",
     "text": [
      "tensor(-2.)\n",
      "tensor(-2.)\n"
     ]
    }
   ],
   "source": [
    "x = torch.tensor([[1., 2.], [3., 4.]])\n",
    "y = torch.det(x)\n",
    "\n",
    "# D = (1x4) - (2x3)\n",
    "\n",
    "print(y)\n",
    "# Outputs- tensor(-2.0000)\n",
    "\n",
    "print(x.det())\n",
    "# Ouputs- tensor(-2.0000)"
   ]
  },
  {
   "attachments": {},
   "cell_type": "markdown",
   "metadata": {},
   "source": [
    "# Product"
   ]
  },
  {
   "cell_type": "code",
   "execution_count": 6,
   "metadata": {},
   "outputs": [
    {
     "name": "stdout",
     "output_type": "stream",
     "text": [
      "tensor([[13,  5],\n",
      "        [19,  5]])\n"
     ]
    }
   ],
   "source": [
    "mat_1 = torch.tensor([[4, 1], [2, 3]])\n",
    "mat_2 = torch.tensor([[2, 1], [5, 1]])\n",
    "\n",
    "result_mat = torch.matmul(mat_1, mat_2)\n",
    "\n",
    "# Result = (4x2)+(1x5) (4x1)+(1x1)\n",
    "#          (2x2)+(3x5) (2x1)+(3x1)\n",
    "\n",
    "print(result_mat)\n",
    "# Outputs- tensor([[13, 5], [19, 5]])"
   ]
  },
  {
   "attachments": {},
   "cell_type": "markdown",
   "metadata": {},
   "source": [
    "# Inverse"
   ]
  },
  {
   "cell_type": "code",
   "execution_count": 11,
   "metadata": {},
   "outputs": [
    {
     "name": "stdout",
     "output_type": "stream",
     "text": [
      "tensor([[-0.2000,  0.4000],\n",
      "        [ 0.6000, -0.2000]])\n"
     ]
    }
   ],
   "source": [
    "x = torch.tensor([[1., 2.], [3., 1.]])\n",
    "inv = torch.inverse(x)\n",
    "\n",
    "print(inv)\n",
    "# Outputs- tensor([[-0.2000, 0.4000], [0.6000, -0.2000]])"
   ]
  },
  {
   "attachments": {},
   "cell_type": "markdown",
   "metadata": {},
   "source": [
    "# Dimensions"
   ]
  },
  {
   "cell_type": "code",
   "execution_count": 12,
   "metadata": {},
   "outputs": [
    {
     "name": "stdout",
     "output_type": "stream",
     "text": [
      "2\n",
      "3\n"
     ]
    }
   ],
   "source": [
    "tensor_1 = torch.tensor([[1, 2], [3, 4]])\n",
    "print(tensor_1.dim())\n",
    "# Outputs- 2\n",
    "\n",
    "tensor_2 = torch.tensor([[[1], [2]], [[3], [4]]])\n",
    "print(tensor_2.dim())\n",
    "# Outputs- 3"
   ]
  },
  {
   "attachments": {},
   "cell_type": "markdown",
   "metadata": {},
   "source": [
    "# Item\n",
    "return a scalar"
   ]
  },
  {
   "cell_type": "code",
   "execution_count": 16,
   "metadata": {},
   "outputs": [
    {
     "data": {
      "text/plain": [
       "4"
      ]
     },
     "execution_count": 16,
     "metadata": {},
     "output_type": "execute_result"
    }
   ],
   "source": [
    "tensor_1 = torch.tensor([4])\n",
    "tensor_2 = torch.tensor([4, 7, 9])\n",
    "\n",
    "tensor_1.item()\n",
    "# Outputs- 4\n",
    "\n",
    "# tensor_2.item()\n",
    "# # Outputs- ValueError: only one element tensors can be converted to Python scalars"
   ]
  },
  {
   "attachments": {},
   "cell_type": "markdown",
   "metadata": {},
   "source": [
    "# ndim attribute\n",
    "Each Pytorch tensor has ndim attribute which will return the number of dimensions of the tensor. ndim is an alias for the dim() function.\n"
   ]
  },
  {
   "cell_type": "code",
   "execution_count": 17,
   "metadata": {},
   "outputs": [
    {
     "name": "stdout",
     "output_type": "stream",
     "text": [
      "2\n",
      "3\n"
     ]
    }
   ],
   "source": [
    "tensor_1 = torch.tensor([[1, 2], [3, 4]])\n",
    "print(tensor_1.ndim)\n",
    "# Outputs- 2\n",
    "\n",
    "tensor_2 = torch.tensor([[[1], [2]], [[3], [4]]])\n",
    "print(tensor_2.ndim)\n",
    "# Outputs- 3"
   ]
  },
  {
   "attachments": {},
   "cell_type": "markdown",
   "metadata": {},
   "source": [
    "# T Attribute\n",
    "Each Pytorch tensor has T attribute which will return the transpose of the matrix."
   ]
  },
  {
   "cell_type": "code",
   "execution_count": 18,
   "metadata": {},
   "outputs": [
    {
     "name": "stdout",
     "output_type": "stream",
     "text": [
      "tensor([[1., 3.],\n",
      "        [2., 1.]])\n"
     ]
    }
   ],
   "source": [
    "x = torch.tensor([[1., 2.], [3., 1.]])\n",
    "print(x.T)\n",
    "# Outputs- tensor([[1., 3.], [2., 1.]])"
   ]
  }
 ],
 "metadata": {
  "kernelspec": {
   "display_name": "pytorch-basic",
   "language": "python",
   "name": "python3"
  },
  "language_info": {
   "codemirror_mode": {
    "name": "ipython",
    "version": 3
   },
   "file_extension": ".py",
   "mimetype": "text/x-python",
   "name": "python",
   "nbconvert_exporter": "python",
   "pygments_lexer": "ipython3",
   "version": "3.8.16"
  },
  "orig_nbformat": 4
 },
 "nbformat": 4,
 "nbformat_minor": 2
}
