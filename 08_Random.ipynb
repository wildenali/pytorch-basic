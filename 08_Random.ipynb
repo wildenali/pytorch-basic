{
 "cells": [
  {
   "cell_type": "code",
   "execution_count": 1,
   "metadata": {},
   "outputs": [],
   "source": [
    "import torch"
   ]
  },
  {
   "attachments": {},
   "cell_type": "markdown",
   "metadata": {},
   "source": [
    "# Random"
   ]
  },
  {
   "cell_type": "code",
   "execution_count": 3,
   "metadata": {},
   "outputs": [
    {
     "name": "stdout",
     "output_type": "stream",
     "text": [
      "tensor([[0.7428, 0.4116, 0.9334],\n",
      "        [0.7482, 0.6508, 0.8269]])\n",
      "tensor([[0.4464, 0.0078, 0.3407],\n",
      "        [0.1916, 0.7133, 0.0107]])\n"
     ]
    }
   ],
   "source": [
    "# This will create a tensor with the shape 2, 3 with random values\n",
    "tensor_1 = torch.rand(2, 3)\n",
    "\n",
    "print(tensor_1)\n",
    "# Outputs- tensor([[0.8823, 0.9150, 0.3829], [0.9593, 0.3904, 0.6009]])\n",
    "\n",
    "# We can also pass a tuple specifying the desired shape of tensor.\n",
    "tensor_2 = torch.rand((2, 3))\n",
    "\n",
    "print(tensor_2)\n",
    "# Outputs- tensor([[0.2566, 0.7936, 0.9408], [0.1332, 0.9346, 0.5936]]"
   ]
  },
  {
   "attachments": {},
   "cell_type": "markdown",
   "metadata": {},
   "source": [
    "# Random Integer"
   ]
  },
  {
   "cell_type": "code",
   "execution_count": 4,
   "metadata": {},
   "outputs": [
    {
     "name": "stdout",
     "output_type": "stream",
     "text": [
      "tensor([[ -2, -10,  -6,  -6,  -9],\n",
      "        [  0,   2,  -4,  -4, -10],\n",
      "        [  0,  -9,   4, -10,  -9],\n",
      "        [  9, -10,  -8,  -2,   1]])\n"
     ]
    }
   ],
   "source": [
    "tensor_1 = torch.randint(-10, 10, (4, 5))\n",
    "\n",
    "print(tensor_1)\n",
    "# Outputs- tensor([[0, 4, 1, 2, 5], [5, -3, -4, -1, 6]])"
   ]
  },
  {
   "attachments": {},
   "cell_type": "markdown",
   "metadata": {},
   "source": [
    "# Seed"
   ]
  },
  {
   "cell_type": "code",
   "execution_count": 6,
   "metadata": {},
   "outputs": [
    {
     "data": {
      "text/plain": [
       "309584584122700"
      ]
     },
     "execution_count": 6,
     "metadata": {},
     "output_type": "execute_result"
    }
   ],
   "source": [
    "torch.initial_seed()\n",
    "# Outputs- 16791183524288837558"
   ]
  },
  {
   "cell_type": "code",
   "execution_count": 7,
   "metadata": {},
   "outputs": [
    {
     "data": {
      "text/plain": [
       "tensor([[0.8823, 0.9150, 0.3829],\n",
       "        [0.9593, 0.3904, 0.6009]])"
      ]
     },
     "execution_count": 7,
     "metadata": {},
     "output_type": "execute_result"
    }
   ],
   "source": [
    "# sets the seed manually to 42\n",
    "torch.manual_seed(42)\n",
    "\n",
    "torch.rand((2, 3))\n",
    "# Outputs- tensor([[0.8823, 0.9150, 0.3829], [0.9593, 0.3904, 0.6009]])"
   ]
  },
  {
   "cell_type": "code",
   "execution_count": 8,
   "metadata": {},
   "outputs": [
    {
     "data": {
      "text/plain": [
       "309694716967000"
      ]
     },
     "execution_count": 8,
     "metadata": {},
     "output_type": "execute_result"
    }
   ],
   "source": [
    "# This will seed for the random generator with a new seed.\n",
    "torch.seed()\n",
    "# Outputs- 15377867763402226090\n",
    "\n",
    "# The new seed is 15377867763402226090\n",
    "\n",
    "torch.initial_seed()\n",
    "# Outputs- 15377867763402226090\n",
    "# Checking if the value of seed has changed"
   ]
  }
 ],
 "metadata": {
  "kernelspec": {
   "display_name": "pytorch-basic",
   "language": "python",
   "name": "python3"
  },
  "language_info": {
   "codemirror_mode": {
    "name": "ipython",
    "version": 3
   },
   "file_extension": ".py",
   "mimetype": "text/x-python",
   "name": "python",
   "nbconvert_exporter": "python",
   "pygments_lexer": "ipython3",
   "version": "3.8.16"
  },
  "orig_nbformat": 4
 },
 "nbformat": 4,
 "nbformat_minor": 2
}
