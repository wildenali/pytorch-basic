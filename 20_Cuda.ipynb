{
 "cells": [
  {
   "cell_type": "code",
   "execution_count": 2,
   "metadata": {},
   "outputs": [],
   "source": [
    "import torch"
   ]
  },
  {
   "cell_type": "code",
   "execution_count": 7,
   "metadata": {},
   "outputs": [
    {
     "name": "stdout",
     "output_type": "stream",
     "text": [
      "False\n"
     ]
    }
   ],
   "source": [
    "# Checking if CUDA is available\n",
    "cuda_check = torch.cuda.is_available()\n",
    "print(cuda_check)"
   ]
  },
  {
   "attachments": {},
   "cell_type": "markdown",
   "metadata": {},
   "source": [
    "# Moving to CUDA"
   ]
  },
  {
   "cell_type": "code",
   "execution_count": 8,
   "metadata": {},
   "outputs": [],
   "source": [
    "# Create a tensor\n",
    "tensor_1 = torch.tensor([1, 2, 3, 4])\n",
    "\n",
    "# Copy the tensor to GPU with same variable name\n",
    "tensor_1 = tensor_1.to(device='cpu')\n",
    "# tensor_1 = tensor_1.to(device='cuda')"
   ]
  },
  {
   "cell_type": "code",
   "execution_count": 14,
   "metadata": {},
   "outputs": [
    {
     "name": "stdout",
     "output_type": "stream",
     "text": [
      "cpu\n",
      "cpu\n"
     ]
    }
   ],
   "source": [
    "tensor_2 = torch.tensor([5, 6, 7, 8])\n",
    "\n",
    "# Print the device on which tensor is present\n",
    "print(tensor_2.device)\n",
    "# Outputs- device(type='cpu')\n",
    "\n",
    "# Moving the tensor to GPU\n",
    "tensor_2 = tensor_2.to(device='cpu')\n",
    "# tensor_2 = tensor_2.to(device='cuda')\n",
    "\n",
    "# Print the device on which tensor is present\n",
    "print(tensor_2.device)\n",
    "# Outputs- device(type='cuda', index=0)"
   ]
  },
  {
   "cell_type": "code",
   "execution_count": 15,
   "metadata": {},
   "outputs": [],
   "source": [
    "import torch.nn as nn\n",
    "import torch.nn.functional as F"
   ]
  },
  {
   "cell_type": "code",
   "execution_count": 17,
   "metadata": {},
   "outputs": [],
   "source": [
    "class MyNeuralNetwork(nn.Module):\n",
    "    def __init__(self):\n",
    "        # # Architecture of Model\n",
    "        # code for the architecture of the Neural Network\n",
    "        super(MyNeuralNetwork, self).__init__()\n",
    "        self.dense_layer1 = nn.Linear(784, 300)\n",
    "        self.dense_layer2 = nn.Linear(300, 100)\n",
    "        self.dense_layer3 = nn.Linear(100, 10)\n",
    "    \n",
    "    def forward(self, x):\n",
    "        # code for the flow of data through the Neural Network\n",
    "        # applying ReLU activation function to the output of dense_layer1\n",
    "        x = F.relu(self.dense_layer1)\n",
    "\n",
    "        # applying ReLU activation function to the output of dense_layer2\n",
    "        x = F.relu(self.dense_layer2)\n",
    "\n",
    "        # applying softmax activation function to the output of dense_layer3\n",
    "        x = F.softmax(self.dense_layer3)\n",
    "\n",
    "        #returning the output\n",
    "        return x"
   ]
  },
  {
   "cell_type": "code",
   "execution_count": 18,
   "metadata": {},
   "outputs": [
    {
     "name": "stdout",
     "output_type": "stream",
     "text": [
      "MyNeuralNetwork(\n",
      "  (dense_layer1): Linear(in_features=784, out_features=300, bias=True)\n",
      "  (dense_layer2): Linear(in_features=300, out_features=100, bias=True)\n",
      "  (dense_layer3): Linear(in_features=100, out_features=10, bias=True)\n",
      ")\n"
     ]
    }
   ],
   "source": [
    "# Creating the Model\n",
    "# Creating a Neural Network model\n",
    "mynet = MyNeuralNetwork()\n",
    "print(mynet)"
   ]
  },
  {
   "cell_type": "code",
   "execution_count": 22,
   "metadata": {},
   "outputs": [
    {
     "name": "stdout",
     "output_type": "stream",
     "text": [
      "cpu\n",
      "cpu\n"
     ]
    }
   ],
   "source": [
    "# Print the device on which mynet exists\n",
    "print(next(mynet.parameters()).device)\n",
    "# Outputs- device(type='cpu')\n",
    "\n",
    "# Moving the model to GPU\n",
    "mynet.to(device='cpu')\n",
    "# mynet.to(device='cuda')\n",
    "\n",
    "# Print the device on which mynet exists\n",
    "print(next(mynet.parameters()).device)\n",
    "# Outputs- device(type='cuda', index=0)"
   ]
  },
  {
   "cell_type": "code",
   "execution_count": 25,
   "metadata": {},
   "outputs": [
    {
     "name": "stdout",
     "output_type": "stream",
     "text": [
      "device cpu\n",
      "tensor([5, 6, 7, 8])\n"
     ]
    }
   ],
   "source": [
    "tensor_3 = torch.tensor([5, 6, 7, 8])\n",
    "\n",
    "# Assigning the value of device\n",
    "if torch.cuda.is_available():\n",
    "    device = 'cuda'\n",
    "else:\n",
    "    device = 'cpu'\n",
    "\n",
    "print(\"device\", device)\n",
    "\n",
    "# Moving the Neural Network model to the available device\n",
    "mynet.to(device=device)\n",
    "\n",
    "# Moving the tensor to the available device\n",
    "tensor_3 = tensor_3.to(device=device)\n",
    "print(tensor_3)"
   ]
  }
 ],
 "metadata": {
  "kernelspec": {
   "display_name": "pytorch-basic",
   "language": "python",
   "name": "python3"
  },
  "language_info": {
   "codemirror_mode": {
    "name": "ipython",
    "version": 3
   },
   "file_extension": ".py",
   "mimetype": "text/x-python",
   "name": "python",
   "nbconvert_exporter": "python",
   "pygments_lexer": "ipython3",
   "version": "3.8.16"
  },
  "orig_nbformat": 4
 },
 "nbformat": 4,
 "nbformat_minor": 2
}
