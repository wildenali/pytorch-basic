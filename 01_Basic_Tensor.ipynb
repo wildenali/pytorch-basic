{
 "cells": [
  {
   "cell_type": "code",
   "execution_count": 2,
   "metadata": {},
   "outputs": [],
   "source": [
    "import torch"
   ]
  },
  {
   "attachments": {},
   "cell_type": "markdown",
   "metadata": {},
   "source": [
    "# Variable dengan tipe data tensor"
   ]
  },
  {
   "attachments": {},
   "cell_type": "markdown",
   "metadata": {},
   "source": [
    "A brief note about tensors and their number of dimensions, and terminology:\n",
    "- You will sometimes see a 1-dimensional tensor called a vector.\n",
    "- Likewise, a 2-dimensional tensor is often referred to as a matrix.\n",
    "- Anything with more than two dimensions is generally just called a tensor"
   ]
  },
  {
   "cell_type": "code",
   "execution_count": 16,
   "metadata": {},
   "outputs": [
    {
     "name": "stdout",
     "output_type": "stream",
     "text": [
      "tensor([[2.5961e+20, 6.3013e-10, 2.5642e-09, 4.2098e+21],\n",
      "        [4.0068e-11, 7.1450e+31, 2.1776e+23, 6.6015e-07]])\n",
      "<class 'torch.Tensor'>\n"
     ]
    }
   ],
   "source": [
    "# Membuat tensor 2 dimensi dengan 3 rows dan 4 columns\n",
    "empty_var = torch.empty(2, 4)\n",
    "print(empty_var)\n",
    "print(type(empty_var))"
   ]
  },
  {
   "cell_type": "code",
   "execution_count": 4,
   "metadata": {},
   "outputs": [
    {
     "name": "stdout",
     "output_type": "stream",
     "text": [
      "tensor([[[0.5253, 0.8590, 0.4542, 0.6819],\n",
      "         [0.8534, 0.3037, 0.7137, 0.4056],\n",
      "         [0.4821, 0.4062, 0.6276, 0.8302]],\n",
      "\n",
      "        [[0.4816, 0.4402, 0.8819, 0.0656],\n",
      "         [0.4039, 0.4057, 0.8656, 0.3438],\n",
      "         [0.4136, 0.1722, 0.6482, 0.0894]]])\n"
     ]
    }
   ],
   "source": [
    "# Membuat tensor 3 dimensi dengan 2 channel, 3 rows dan 4 columns\n",
    "random_var = torch.rand(2, 3, 4)\n",
    "print(random_var)"
   ]
  },
  {
   "cell_type": "code",
   "execution_count": 5,
   "metadata": {},
   "outputs": [
    {
     "name": "stdout",
     "output_type": "stream",
     "text": [
      "tensor([[[1., 1., 1., 1.],\n",
      "         [1., 1., 1., 1.],\n",
      "         [1., 1., 1., 1.]],\n",
      "\n",
      "        [[1., 1., 1., 1.],\n",
      "         [1., 1., 1., 1.],\n",
      "         [1., 1., 1., 1.]]])\n"
     ]
    }
   ],
   "source": [
    "# Membuat tensor dengan nilai 1 berukuran 2, 3, 4\n",
    "ones_var = torch.ones(2, 3, 4)\n",
    "print(ones_var)"
   ]
  },
  {
   "cell_type": "code",
   "execution_count": 6,
   "metadata": {},
   "outputs": [
    {
     "name": "stdout",
     "output_type": "stream",
     "text": [
      "tensor([[[0., 0., 0., 0.],\n",
      "         [0., 0., 0., 0.],\n",
      "         [0., 0., 0., 0.]],\n",
      "\n",
      "        [[0., 0., 0., 0.],\n",
      "         [0., 0., 0., 0.],\n",
      "         [0., 0., 0., 0.]]])\n"
     ]
    }
   ],
   "source": [
    "# Variable tensor dengan nilai 0 berukuran 2, 3, 4\n",
    "zeros_var = torch.zeros(2, 3, 4)\n",
    "print(zeros_var)"
   ]
  },
  {
   "cell_type": "code",
   "execution_count": 8,
   "metadata": {},
   "outputs": [
    {
     "name": "stdout",
     "output_type": "stream",
     "text": [
      "tensor([ 0.,  1.,  2.,  3.,  4.,  5.,  6.,  7.,  8.,  9., 10., 11.])\n"
     ]
    }
   ],
   "source": [
    "# Membuat variabel tensor yang berurutan sejumlah n atau dari x hingga y (bahkan dengan step atau jarak tertentu)\n",
    "rentang = torch.arange(12, dtype=torch.float32)\n",
    "print(rentang)"
   ]
  },
  {
   "cell_type": "code",
   "execution_count": 9,
   "metadata": {},
   "outputs": [
    {
     "name": "stdout",
     "output_type": "stream",
     "text": [
      "tensor([ 0.,  2.,  4.,  6.,  8., 10.])\n"
     ]
    }
   ],
   "source": [
    "rentang2 = torch.arange(0, 12, 2, dtype=torch.float32)\n",
    "print(rentang2)"
   ]
  },
  {
   "attachments": {},
   "cell_type": "markdown",
   "metadata": {},
   "source": [
    "# Membuat variabel tensor dengan tipe data spesifik"
   ]
  },
  {
   "cell_type": "code",
   "execution_count": 14,
   "metadata": {},
   "outputs": [
    {
     "name": "stdout",
     "output_type": "stream",
     "text": [
      "tensor([[1, 1],\n",
      "        [1, 1]], dtype=torch.int32)\n",
      "torch.int32\n",
      "torch.Size([2, 2])\n"
     ]
    }
   ],
   "source": [
    "# Membuat tensor dengan tipe data integer\n",
    "int_var = torch.ones(2, 2, dtype=torch.int)\n",
    "print(int_var)\n",
    "print(int_var.dtype)\n",
    "print(int_var.size())"
   ]
  },
  {
   "cell_type": "code",
   "execution_count": 17,
   "metadata": {},
   "outputs": [
    {
     "name": "stdout",
     "output_type": "stream",
     "text": [
      "tensor([[1., 1.],\n",
      "        [1., 1.]])\n",
      "torch.float32\n",
      "torch.Size([2, 2])\n"
     ]
    }
   ],
   "source": [
    "# Membuat tensor dengan tipe data float\n",
    "float_var = torch.ones(2, 2, dtype=torch.float)\n",
    "print(float_var)\n",
    "print(float_var.dtype)\n",
    "print(float_var.size())"
   ]
  },
  {
   "cell_type": "code",
   "execution_count": 20,
   "metadata": {},
   "outputs": [
    {
     "name": "stdout",
     "output_type": "stream",
     "text": [
      "tensor([[0.3126, 0.3791, 0.3087],\n",
      "        [0.0736, 0.4216, 0.0691]])\n"
     ]
    }
   ],
   "source": [
    "torch.manual_seed(1729)\n",
    "random = torch.rand(2, 3)\n",
    "print(random)"
   ]
  },
  {
   "cell_type": "code",
   "execution_count": 21,
   "metadata": {},
   "outputs": [
    {
     "name": "stdout",
     "output_type": "stream",
     "text": [
      "tensor([[0.3126, 0.3791, 0.3087],\n",
      "        [0.0736, 0.4216, 0.0691]])\n",
      "tensor([[0.2332, 0.4047, 0.2162],\n",
      "        [0.9927, 0.4128, 0.5938]])\n",
      "tensor([[0.3126, 0.3791, 0.3087],\n",
      "        [0.0736, 0.4216, 0.0691]])\n",
      "tensor([[0.2332, 0.4047, 0.2162],\n",
      "        [0.9927, 0.4128, 0.5938]])\n"
     ]
    }
   ],
   "source": [
    "torch.manual_seed(1729)\n",
    "random1 = torch.rand(2, 3)\n",
    "print(random1)\n",
    "\n",
    "random2 = torch.rand(2, 3)\n",
    "print(random2)\n",
    "\n",
    "torch.manual_seed(1729)\n",
    "random3 = torch.rand(2, 3)\n",
    "print(random3)\n",
    "\n",
    "random4 = torch.rand(2, 3)\n",
    "print(random4)"
   ]
  },
  {
   "attachments": {},
   "cell_type": "markdown",
   "metadata": {},
   "source": [
    "# Tensor Shapes"
   ]
  },
  {
   "cell_type": "code",
   "execution_count": 23,
   "metadata": {},
   "outputs": [
    {
     "name": "stdout",
     "output_type": "stream",
     "text": [
      "torch.Size([2, 3, 4])\n",
      "tensor([[[9.2755e-39, 1.0561e-38, 1.0929e-38, 9.9184e-39],\n",
      "         [9.2755e-39, 8.4490e-39, 1.0102e-38, 9.0919e-39],\n",
      "         [1.0102e-38, 8.9082e-39, 8.4489e-39, 1.0102e-38]],\n",
      "\n",
      "        [[1.0561e-38, 1.0286e-38, 1.0653e-38, 1.0469e-38],\n",
      "         [9.5510e-39, 8.9999e-39, 1.0561e-38, 9.0919e-39],\n",
      "         [9.9184e-39, 9.0000e-39, 1.0561e-38, 1.0653e-38]]])\n"
     ]
    }
   ],
   "source": [
    "x = torch.empty(2, 3, 4)\n",
    "print(x.shape)\n",
    "print(x)"
   ]
  },
  {
   "cell_type": "code",
   "execution_count": 24,
   "metadata": {},
   "outputs": [
    {
     "name": "stdout",
     "output_type": "stream",
     "text": [
      "torch.Size([2, 3, 4])\n",
      "tensor([[[0.0000e+00, 1.0561e-38, 7.0295e+28, 6.1949e-04],\n",
      "         [4.4321e+27, 1.7975e+19, 6.9481e+22, 3.9177e-02],\n",
      "         [4.7429e+30, 5.1476e+22, 7.9325e+34, 2.8219e+26]],\n",
      "\n",
      "        [[5.5102e-14, 4.7622e+30, 1.3569e-14, 7.6194e+31],\n",
      "         [1.7860e+25, 1.8124e+34, 2.6800e+20, 1.9072e+17],\n",
      "         [1.8318e+25, 4.9719e+22, 7.9325e+34, 2.8219e+26]]])\n"
     ]
    }
   ],
   "source": [
    "empty_like_x = torch.empty_like(x)\n",
    "print(empty_like_x.shape)\n",
    "print(empty_like_x)"
   ]
  },
  {
   "cell_type": "code",
   "execution_count": 25,
   "metadata": {},
   "outputs": [
    {
     "name": "stdout",
     "output_type": "stream",
     "text": [
      "torch.Size([2, 3, 4])\n",
      "tensor([[[0., 0., 0., 0.],\n",
      "         [0., 0., 0., 0.],\n",
      "         [0., 0., 0., 0.]],\n",
      "\n",
      "        [[0., 0., 0., 0.],\n",
      "         [0., 0., 0., 0.],\n",
      "         [0., 0., 0., 0.]]])\n"
     ]
    }
   ],
   "source": [
    "zeros_like_x = torch.zeros_like(x)\n",
    "print(zeros_like_x.shape)\n",
    "print(zeros_like_x)"
   ]
  },
  {
   "cell_type": "code",
   "execution_count": 26,
   "metadata": {},
   "outputs": [
    {
     "name": "stdout",
     "output_type": "stream",
     "text": [
      "torch.Size([2, 3, 4])\n",
      "tensor([[[1., 1., 1., 1.],\n",
      "         [1., 1., 1., 1.],\n",
      "         [1., 1., 1., 1.]],\n",
      "\n",
      "        [[1., 1., 1., 1.],\n",
      "         [1., 1., 1., 1.],\n",
      "         [1., 1., 1., 1.]]])\n"
     ]
    }
   ],
   "source": [
    "ones_like_x = torch.ones_like(x)\n",
    "print(ones_like_x.shape)\n",
    "print(ones_like_x)"
   ]
  },
  {
   "cell_type": "code",
   "execution_count": 27,
   "metadata": {},
   "outputs": [
    {
     "name": "stdout",
     "output_type": "stream",
     "text": [
      "torch.Size([2, 3, 4])\n",
      "tensor([[[0.6128, 0.1519, 0.0453, 0.5035],\n",
      "         [0.9978, 0.3884, 0.6929, 0.1703],\n",
      "         [0.1384, 0.4759, 0.7481, 0.0361]],\n",
      "\n",
      "        [[0.5062, 0.8469, 0.2588, 0.2707],\n",
      "         [0.4115, 0.6839, 0.0703, 0.5105],\n",
      "         [0.9451, 0.2359, 0.1979, 0.3327]]])\n"
     ]
    }
   ],
   "source": [
    "rand_like_x = torch.rand_like(x)\n",
    "print(rand_like_x.shape)\n",
    "print(rand_like_x)"
   ]
  },
  {
   "cell_type": "code",
   "execution_count": 28,
   "metadata": {},
   "outputs": [
    {
     "name": "stdout",
     "output_type": "stream",
     "text": [
      "tensor([[3.1416, 2.7183],\n",
      "        [1.6180, 0.0073]])\n"
     ]
    }
   ],
   "source": [
    "some_constants = torch.tensor([[3.1415926, 2.71828], [1.61803, 0.0072897]])\n",
    "print(some_constants)"
   ]
  },
  {
   "cell_type": "code",
   "execution_count": 29,
   "metadata": {},
   "outputs": [
    {
     "name": "stdout",
     "output_type": "stream",
     "text": [
      "tensor([ 2,  3,  5,  7, 11, 13, 17, 19])\n"
     ]
    }
   ],
   "source": [
    "some_integers = torch.tensor((2, 3, 5, 7, 11, 13, 17, 19))\n",
    "print(some_integers)"
   ]
  },
  {
   "cell_type": "code",
   "execution_count": 30,
   "metadata": {},
   "outputs": [
    {
     "name": "stdout",
     "output_type": "stream",
     "text": [
      "tensor([[2, 4, 6],\n",
      "        [3, 6, 9]])\n"
     ]
    }
   ],
   "source": [
    "more_integers = torch.tensor(((2, 4, 6), [3, 6, 9]))\n",
    "print(more_integers)"
   ]
  },
  {
   "attachments": {},
   "cell_type": "markdown",
   "metadata": {},
   "source": [
    "# Tensor Data Type"
   ]
  },
  {
   "cell_type": "code",
   "execution_count": 32,
   "metadata": {},
   "outputs": [
    {
     "name": "stdout",
     "output_type": "stream",
     "text": [
      "tensor([[1, 1, 1],\n",
      "        [1, 1, 1]], dtype=torch.int16)\n",
      "tensor([[12.3902, 15.0541, 16.8179],\n",
      "        [17.7174, 14.2091, 18.9694]], dtype=torch.float64)\n",
      "tensor([[12, 15, 16],\n",
      "        [17, 14, 18]], dtype=torch.int32)\n"
     ]
    }
   ],
   "source": [
    "a = torch.ones((2, 3), dtype=torch.int16)\n",
    "print(a)\n",
    "\n",
    "b = torch.rand((2, 3), dtype=torch.float64) * 20.\n",
    "print(b)\n",
    "\n",
    "c = b.to(torch.int32)\n",
    "print(c)"
   ]
  },
  {
   "attachments": {},
   "cell_type": "markdown",
   "metadata": {},
   "source": [
    "Available data types include:\n",
    "- torch.bool\n",
    "- torch.int8\n",
    "- torch.uint8\n",
    "- torch.int16\n",
    "- torch.int32\n",
    "- torch.int64\n",
    "- torch.half\n",
    "- torch.float\n",
    "- torch.double\n",
    "- torch.bfloat"
   ]
  },
  {
   "attachments": {},
   "cell_type": "markdown",
   "metadata": {},
   "source": [
    "# Upcasting and Downcasting a Pytorch Tensor\n",
    "- An upcasting happens when a lower data type, such as an integer is converted to a higher data type, such as a float.\n",
    "- A downcasting happens when a higher data type, such as a float is converted to a lower data type, such as an integer"
   ]
  },
  {
   "cell_type": "code",
   "execution_count": 3,
   "metadata": {},
   "outputs": [
    {
     "name": "stdout",
     "output_type": "stream",
     "text": [
      "tensor([[4., 2.],\n",
      "        [1., 3.]], dtype=torch.float64)\n"
     ]
    }
   ],
   "source": [
    "tensor_4 = torch.tensor([[4, 2], [1, 3]], dtype=torch.float64)\n",
    "\n",
    "print(tensor_4)\n",
    "# Ouputs- tensor([[4., 2.], [1., 3.]], dtype=torch.float64)"
   ]
  },
  {
   "cell_type": "code",
   "execution_count": 4,
   "metadata": {},
   "outputs": [
    {
     "name": "stdout",
     "output_type": "stream",
     "text": [
      "tensor([[4, 2],\n",
      "        [1, 7]], dtype=torch.int16)\n"
     ]
    },
    {
     "name": "stderr",
     "output_type": "stream",
     "text": [
      "C:\\Users\\wilden\\AppData\\Local\\Temp\\ipykernel_20028\\1096050098.py:1: DeprecationWarning: an integer is required (got type float).  Implicit conversion to integers using __int__ is deprecated, and may be removed in a future version of Python.\n",
      "  tensor_5 = torch.tensor([[4.7, 2.2], [1.4, 7.8]], dtype=torch.int16)\n"
     ]
    }
   ],
   "source": [
    "tensor_5 = torch.tensor([[4.7, 2.2], [1.4, 7.8]], dtype=torch.int16)\n",
    "\n",
    "print(tensor_5)\n",
    "# Ouputs- tensor([[4, 2], [1, 7]], dtype=torch.int16)"
   ]
  },
  {
   "attachments": {},
   "cell_type": "markdown",
   "metadata": {},
   "source": [
    "# Creating a Pytorch Tensor from a Numpy Array"
   ]
  },
  {
   "cell_type": "code",
   "execution_count": 6,
   "metadata": {},
   "outputs": [
    {
     "name": "stdout",
     "output_type": "stream",
     "text": [
      "<class 'torch.Tensor'>\n",
      "tensor([1, 2, 3, 4], dtype=torch.int32)\n"
     ]
    }
   ],
   "source": [
    "import numpy as np\n",
    "np_tensor = np.array([1, 2, 3, 4])\n",
    "\n",
    "pytorch_tensor = torch.from_numpy(np_tensor)\n",
    "\n",
    "print(type(pytorch_tensor))\n",
    "# Outputs- torch.Tensor\n",
    "\n",
    "print(pytorch_tensor)\n",
    "# Outputs- tensor([1, 2, 3, 4])"
   ]
  }
 ],
 "metadata": {
  "kernelspec": {
   "display_name": "pytorch-basic",
   "language": "python",
   "name": "python3"
  },
  "language_info": {
   "codemirror_mode": {
    "name": "ipython",
    "version": 3
   },
   "file_extension": ".py",
   "mimetype": "text/x-python",
   "name": "python",
   "nbconvert_exporter": "python",
   "pygments_lexer": "ipython3",
   "version": "3.8.16"
  },
  "orig_nbformat": 4
 },
 "nbformat": 4,
 "nbformat_minor": 2
}
