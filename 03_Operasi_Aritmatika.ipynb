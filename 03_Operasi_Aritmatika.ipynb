{
 "cells": [
  {
   "attachments": {},
   "cell_type": "markdown",
   "metadata": {},
   "source": [
    "# Addition"
   ]
  },
  {
   "cell_type": "code",
   "execution_count": 2,
   "metadata": {},
   "outputs": [],
   "source": [
    "import torch"
   ]
  },
  {
   "cell_type": "code",
   "execution_count": 2,
   "metadata": {},
   "outputs": [
    {
     "name": "stdout",
     "output_type": "stream",
     "text": [
      "tensor([[3, 5],\n",
      "        [1, 7]])\n"
     ]
    }
   ],
   "source": [
    "tensor_1 = torch.tensor([[1, 2], [1, 3]])\n",
    "tensor_2 = torch.tensor([[2, 3], [0, 4]])\n",
    "\n",
    "# 1+2 2+3\n",
    "# 1+0 3+4\n",
    "\n",
    "result = tensor_1 + tensor_2\n",
    "print(result)"
   ]
  },
  {
   "cell_type": "code",
   "execution_count": 3,
   "metadata": {},
   "outputs": [
    {
     "name": "stdout",
     "output_type": "stream",
     "text": [
      "tensor([[3, 5],\n",
      "        [1, 7]])\n"
     ]
    }
   ],
   "source": [
    "result_add = torch.add(tensor_1, tensor_2)\n",
    "print(result_add)"
   ]
  },
  {
   "cell_type": "code",
   "execution_count": 4,
   "metadata": {},
   "outputs": [
    {
     "name": "stdout",
     "output_type": "stream",
     "text": [
      "tensor([[3, 5],\n",
      "        [1, 7]])\n"
     ]
    }
   ],
   "source": [
    "result_add = tensor_1.add(tensor_2)\n",
    "print(result_add)"
   ]
  },
  {
   "attachments": {},
   "cell_type": "markdown",
   "metadata": {},
   "source": [
    "# Subtraction"
   ]
  },
  {
   "cell_type": "code",
   "execution_count": 4,
   "metadata": {},
   "outputs": [
    {
     "name": "stdout",
     "output_type": "stream",
     "text": [
      "tensor([[-3, -4],\n",
      "        [-4,  2]])\n"
     ]
    }
   ],
   "source": [
    "tensor_1 = torch.tensor([[1, 2], [1, 3]])\n",
    "tensor_2 = torch.tensor([[4, 6], [5, 1]])\n",
    "\n",
    "# 1-4 2-6\n",
    "# 1-5 3-1\n",
    "\n",
    "result = tensor_1 - tensor_2\n",
    "print(result)"
   ]
  },
  {
   "cell_type": "code",
   "execution_count": 5,
   "metadata": {},
   "outputs": [
    {
     "name": "stdout",
     "output_type": "stream",
     "text": [
      "tensor([[-1, -1],\n",
      "        [ 1, -1]])\n",
      "tensor([[-1, -1],\n",
      "        [ 1, -1]])\n"
     ]
    }
   ],
   "source": [
    "tensor_1 = torch.tensor([[1, 2], [1, 3]])\n",
    "tensor_2 = torch.tensor([[2, 3], [0, 4]])\n",
    "\n",
    "print(torch.sub(tensor_1, tensor_2))\n",
    "# Outputs- tensor([[-1, -1], [1, -1]])\n",
    "\n",
    "print(tensor_1.sub(tensor_2))\n",
    "# Outputs- tensor([[-1, -1], [1, -1]])"
   ]
  },
  {
   "attachments": {},
   "cell_type": "markdown",
   "metadata": {},
   "source": [
    "# Multiplication"
   ]
  },
  {
   "cell_type": "code",
   "execution_count": 6,
   "metadata": {},
   "outputs": [
    {
     "name": "stdout",
     "output_type": "stream",
     "text": [
      "tensor([[ 2,  6],\n",
      "        [ 0, 12]])\n"
     ]
    }
   ],
   "source": [
    "tensor_1 = torch.tensor([[1, 2], [1, 3]])\n",
    "tensor_2 = torch.tensor([[2, 3], [0, 4]])\n",
    "\n",
    "# 1x2 2x3\n",
    "# 1x0 3x4\n",
    "\n",
    "print(tensor_1 * tensor_2)\n",
    "# Outputs- tensor([[2, 6], [0, 12]])"
   ]
  },
  {
   "cell_type": "code",
   "execution_count": 7,
   "metadata": {},
   "outputs": [
    {
     "name": "stdout",
     "output_type": "stream",
     "text": [
      "tensor([[ 2,  6],\n",
      "        [ 0, 12]])\n",
      "tensor([[ 2,  6],\n",
      "        [ 0, 12]])\n"
     ]
    }
   ],
   "source": [
    "tensor_1 = torch.tensor([[1, 2], [1, 3]])\n",
    "tensor_2 = torch.tensor([[2, 3], [0, 4]])\n",
    "\n",
    "print(torch.mul(tensor_1, tensor_2))\n",
    "# Outputs- tensor([[2, 6], [0, 12]])\n",
    "\n",
    "print(tensor_1.mul(tensor_2))\n",
    "# Outputs- tensor([[2, 6], [0, 12]])"
   ]
  },
  {
   "attachments": {},
   "cell_type": "markdown",
   "metadata": {},
   "source": [
    "# Division"
   ]
  },
  {
   "cell_type": "code",
   "execution_count": 8,
   "metadata": {},
   "outputs": [
    {
     "name": "stdout",
     "output_type": "stream",
     "text": [
      "tensor([[0.5000, 0.6667],\n",
      "        [   inf, 0.7500]])\n"
     ]
    }
   ],
   "source": [
    "tensor_1 = torch.tensor([[1, 2], [1, 3]])\n",
    "tensor_2 = torch.tensor([[2, 3], [0, 4]])\n",
    "\n",
    "print(tensor_1 / tensor_2)\n",
    "# Outputs- tensor([[0.5000, 0.6667], [inf, 0.7500]])"
   ]
  },
  {
   "cell_type": "code",
   "execution_count": 9,
   "metadata": {},
   "outputs": [
    {
     "name": "stdout",
     "output_type": "stream",
     "text": [
      "tensor([[0.5000, 0.6667],\n",
      "        [   inf, 0.7500]])\n",
      "tensor([[0.5000, 0.6667],\n",
      "        [   inf, 0.7500]])\n"
     ]
    }
   ],
   "source": [
    "tensor_1 = torch.tensor([[1, 2], [1, 3]])\n",
    "tensor_2 = torch.tensor([[2, 3], [0, 4]])\n",
    "\n",
    "print(torch.div(tensor_1, tensor_2))\n",
    "# Outputs- tensor([[0.5000, 0.6667], [inf, 0.7500]])\n",
    "\n",
    "print(tensor_1.div(tensor_2))\n",
    "# Outputs- tensor([[0.5000, 0.6667], [inf, 0.7500]])"
   ]
  },
  {
   "attachments": {},
   "cell_type": "markdown",
   "metadata": {},
   "source": [
    "# Exponent"
   ]
  },
  {
   "cell_type": "code",
   "execution_count": 12,
   "metadata": {},
   "outputs": [
    {
     "name": "stdout",
     "output_type": "stream",
     "text": [
      "tensor([[ 1,  8],\n",
      "        [ 1, 81]])\n"
     ]
    }
   ],
   "source": [
    "tensor_1 = torch.tensor([[1, 2], [1, 3]])\n",
    "tensor_2 = torch.tensor([[2, 3], [0, 4]])\n",
    "\n",
    "# 1^1 2^3\n",
    "# 1^0 3^4\n",
    "\n",
    "print(tensor_1 ** tensor_2)\n",
    "# Outputs- tensor([[1, 8], [1, 81]])"
   ]
  },
  {
   "cell_type": "code",
   "execution_count": 13,
   "metadata": {},
   "outputs": [
    {
     "name": "stdout",
     "output_type": "stream",
     "text": [
      "tensor([[ 1,  8],\n",
      "        [ 1, 81]])\n",
      "tensor([[ 1,  8],\n",
      "        [ 1, 81]])\n"
     ]
    }
   ],
   "source": [
    "tensor_1 = torch.tensor([[1, 2], [1, 3]])\n",
    "tensor_2 = torch.tensor([[2, 3], [0, 4]])\n",
    "\n",
    "print(torch.pow(tensor_1, tensor_2))\n",
    "# Outputs- tensor([[1, 8], [1, 81]])\n",
    "\n",
    "print(tensor_1.pow(tensor_2))\n",
    "# Outputs- tensor([[1, 8], [1, 81]])"
   ]
  },
  {
   "attachments": {},
   "cell_type": "markdown",
   "metadata": {},
   "source": [
    "# Remainder\n",
    "- The remainder operation can be performed using the % operand. This will calculate the remainder of elements in the first tensor after division by respective elements in the second tensor.\n",
    "- Note: A ZeroDivisionError will be returned if any of the elements in the divisor tensor is 0."
   ]
  },
  {
   "cell_type": "code",
   "execution_count": 15,
   "metadata": {},
   "outputs": [
    {
     "name": "stdout",
     "output_type": "stream",
     "text": [
      "tensor([[1, 2],\n",
      "        [4, 0]])\n"
     ]
    }
   ],
   "source": [
    "tensor_1 = torch.tensor([[3, 8], [9, 4]])\n",
    "tensor_2 = torch.tensor([[2, 3], [5, 4]])\n",
    "\n",
    "print(tensor_1 % tensor_2)\n",
    "# Outputs- tensor([[1, 2], [4, 0]])"
   ]
  },
  {
   "cell_type": "code",
   "execution_count": 18,
   "metadata": {},
   "outputs": [
    {
     "name": "stdout",
     "output_type": "stream",
     "text": [
      "tensor([[1, 2],\n",
      "        [1, 3]])\n",
      "tensor([[1, 2],\n",
      "        [1, 3]])\n"
     ]
    }
   ],
   "source": [
    "tensor_1 = torch.tensor([[1, 2], [1, 3]])\n",
    "tensor_2 = torch.tensor([[2, 3], [3, 4]])\n",
    "\n",
    "print(torch.remainder(tensor_1, tensor_2))\n",
    "# Outputs- tensor([[1, 2], [4, 0]])\n",
    "\n",
    "print(tensor_1.remainder(tensor_2))\n",
    "# Outputs- tensor([[1, 2], [4, 0]])"
   ]
  }
 ],
 "metadata": {
  "kernelspec": {
   "display_name": "pytorch-basic",
   "language": "python",
   "name": "python3"
  },
  "language_info": {
   "codemirror_mode": {
    "name": "ipython",
    "version": 3
   },
   "file_extension": ".py",
   "mimetype": "text/x-python",
   "name": "python",
   "nbconvert_exporter": "python",
   "pygments_lexer": "ipython3",
   "version": "3.8.16"
  },
  "orig_nbformat": 4
 },
 "nbformat": 4,
 "nbformat_minor": 2
}
